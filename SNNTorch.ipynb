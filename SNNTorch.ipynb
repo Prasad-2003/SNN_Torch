{
  "nbformat": 4,
  "nbformat_minor": 0,
  "metadata": {
    "colab": {
      "provenance": []
    },
    "kernelspec": {
      "name": "python3",
      "display_name": "Python 3"
    },
    "language_info": {
      "name": "python"
    },
    "widgets": {
      "application/vnd.jupyter.widget-state+json": {
        "f4877d54fb6742b29dbe39138a634a2a": {
          "model_module": "@jupyter-widgets/controls",
          "model_name": "HBoxModel",
          "model_module_version": "1.5.0",
          "state": {
            "_dom_classes": [],
            "_model_module": "@jupyter-widgets/controls",
            "_model_module_version": "1.5.0",
            "_model_name": "HBoxModel",
            "_view_count": null,
            "_view_module": "@jupyter-widgets/controls",
            "_view_module_version": "1.5.0",
            "_view_name": "HBoxView",
            "box_style": "",
            "children": [
              "IPY_MODEL_e3d5fd78845146938ddf317e7f60c309",
              "IPY_MODEL_57950c3a8c5445f1b6e5aa0c59af18e1",
              "IPY_MODEL_cbe0be3d9c9e458db2126a9c4a9eeacc"
            ],
            "layout": "IPY_MODEL_16154051c5614556a5a550f0c07f6ac0"
          }
        },
        "e3d5fd78845146938ddf317e7f60c309": {
          "model_module": "@jupyter-widgets/controls",
          "model_name": "HTMLModel",
          "model_module_version": "1.5.0",
          "state": {
            "_dom_classes": [],
            "_model_module": "@jupyter-widgets/controls",
            "_model_module_version": "1.5.0",
            "_model_name": "HTMLModel",
            "_view_count": null,
            "_view_module": "@jupyter-widgets/controls",
            "_view_module_version": "1.5.0",
            "_view_name": "HTMLView",
            "description": "",
            "description_tooltip": null,
            "layout": "IPY_MODEL_4b381ff5d5ca404da4e07a449d9b1399",
            "placeholder": "​",
            "style": "IPY_MODEL_8055e4a00220421fb44a8325997affd4",
            "value": ""
          }
        },
        "57950c3a8c5445f1b6e5aa0c59af18e1": {
          "model_module": "@jupyter-widgets/controls",
          "model_name": "FloatProgressModel",
          "model_module_version": "1.5.0",
          "state": {
            "_dom_classes": [],
            "_model_module": "@jupyter-widgets/controls",
            "_model_module_version": "1.5.0",
            "_model_name": "FloatProgressModel",
            "_view_count": null,
            "_view_module": "@jupyter-widgets/controls",
            "_view_module_version": "1.5.0",
            "_view_name": "ProgressView",
            "bar_style": "success",
            "description": "",
            "description_tooltip": null,
            "layout": "IPY_MODEL_7d9551e2788348a1875d42a02225a4f0",
            "max": 700096,
            "min": 0,
            "orientation": "horizontal",
            "style": "IPY_MODEL_3f2f0eaee4df41f4857a070ef280262d",
            "value": 700096
          }
        },
        "cbe0be3d9c9e458db2126a9c4a9eeacc": {
          "model_module": "@jupyter-widgets/controls",
          "model_name": "HTMLModel",
          "model_module_version": "1.5.0",
          "state": {
            "_dom_classes": [],
            "_model_module": "@jupyter-widgets/controls",
            "_model_module_version": "1.5.0",
            "_model_name": "HTMLModel",
            "_view_count": null,
            "_view_module": "@jupyter-widgets/controls",
            "_view_module_version": "1.5.0",
            "_view_name": "HTMLView",
            "description": "",
            "description_tooltip": null,
            "layout": "IPY_MODEL_df97fac0464b4819b135fe54aaae20b1",
            "placeholder": "​",
            "style": "IPY_MODEL_47a352942f9b453eb76dacc9062440ff",
            "value": " 700416/? [00:00&lt;00:00, 1511767.44it/s]"
          }
        },
        "16154051c5614556a5a550f0c07f6ac0": {
          "model_module": "@jupyter-widgets/base",
          "model_name": "LayoutModel",
          "model_module_version": "1.2.0",
          "state": {
            "_model_module": "@jupyter-widgets/base",
            "_model_module_version": "1.2.0",
            "_model_name": "LayoutModel",
            "_view_count": null,
            "_view_module": "@jupyter-widgets/base",
            "_view_module_version": "1.2.0",
            "_view_name": "LayoutView",
            "align_content": null,
            "align_items": null,
            "align_self": null,
            "border": null,
            "bottom": null,
            "display": null,
            "flex": null,
            "flex_flow": null,
            "grid_area": null,
            "grid_auto_columns": null,
            "grid_auto_flow": null,
            "grid_auto_rows": null,
            "grid_column": null,
            "grid_gap": null,
            "grid_row": null,
            "grid_template_areas": null,
            "grid_template_columns": null,
            "grid_template_rows": null,
            "height": null,
            "justify_content": null,
            "justify_items": null,
            "left": null,
            "margin": null,
            "max_height": null,
            "max_width": null,
            "min_height": null,
            "min_width": null,
            "object_fit": null,
            "object_position": null,
            "order": null,
            "overflow": null,
            "overflow_x": null,
            "overflow_y": null,
            "padding": null,
            "right": null,
            "top": null,
            "visibility": null,
            "width": null
          }
        },
        "4b381ff5d5ca404da4e07a449d9b1399": {
          "model_module": "@jupyter-widgets/base",
          "model_name": "LayoutModel",
          "model_module_version": "1.2.0",
          "state": {
            "_model_module": "@jupyter-widgets/base",
            "_model_module_version": "1.2.0",
            "_model_name": "LayoutModel",
            "_view_count": null,
            "_view_module": "@jupyter-widgets/base",
            "_view_module_version": "1.2.0",
            "_view_name": "LayoutView",
            "align_content": null,
            "align_items": null,
            "align_self": null,
            "border": null,
            "bottom": null,
            "display": null,
            "flex": null,
            "flex_flow": null,
            "grid_area": null,
            "grid_auto_columns": null,
            "grid_auto_flow": null,
            "grid_auto_rows": null,
            "grid_column": null,
            "grid_gap": null,
            "grid_row": null,
            "grid_template_areas": null,
            "grid_template_columns": null,
            "grid_template_rows": null,
            "height": null,
            "justify_content": null,
            "justify_items": null,
            "left": null,
            "margin": null,
            "max_height": null,
            "max_width": null,
            "min_height": null,
            "min_width": null,
            "object_fit": null,
            "object_position": null,
            "order": null,
            "overflow": null,
            "overflow_x": null,
            "overflow_y": null,
            "padding": null,
            "right": null,
            "top": null,
            "visibility": null,
            "width": null
          }
        },
        "8055e4a00220421fb44a8325997affd4": {
          "model_module": "@jupyter-widgets/controls",
          "model_name": "DescriptionStyleModel",
          "model_module_version": "1.5.0",
          "state": {
            "_model_module": "@jupyter-widgets/controls",
            "_model_module_version": "1.5.0",
            "_model_name": "DescriptionStyleModel",
            "_view_count": null,
            "_view_module": "@jupyter-widgets/base",
            "_view_module_version": "1.2.0",
            "_view_name": "StyleView",
            "description_width": ""
          }
        },
        "7d9551e2788348a1875d42a02225a4f0": {
          "model_module": "@jupyter-widgets/base",
          "model_name": "LayoutModel",
          "model_module_version": "1.2.0",
          "state": {
            "_model_module": "@jupyter-widgets/base",
            "_model_module_version": "1.2.0",
            "_model_name": "LayoutModel",
            "_view_count": null,
            "_view_module": "@jupyter-widgets/base",
            "_view_module_version": "1.2.0",
            "_view_name": "LayoutView",
            "align_content": null,
            "align_items": null,
            "align_self": null,
            "border": null,
            "bottom": null,
            "display": null,
            "flex": null,
            "flex_flow": null,
            "grid_area": null,
            "grid_auto_columns": null,
            "grid_auto_flow": null,
            "grid_auto_rows": null,
            "grid_column": null,
            "grid_gap": null,
            "grid_row": null,
            "grid_template_areas": null,
            "grid_template_columns": null,
            "grid_template_rows": null,
            "height": null,
            "justify_content": null,
            "justify_items": null,
            "left": null,
            "margin": null,
            "max_height": null,
            "max_width": null,
            "min_height": null,
            "min_width": null,
            "object_fit": null,
            "object_position": null,
            "order": null,
            "overflow": null,
            "overflow_x": null,
            "overflow_y": null,
            "padding": null,
            "right": null,
            "top": null,
            "visibility": null,
            "width": null
          }
        },
        "3f2f0eaee4df41f4857a070ef280262d": {
          "model_module": "@jupyter-widgets/controls",
          "model_name": "ProgressStyleModel",
          "model_module_version": "1.5.0",
          "state": {
            "_model_module": "@jupyter-widgets/controls",
            "_model_module_version": "1.5.0",
            "_model_name": "ProgressStyleModel",
            "_view_count": null,
            "_view_module": "@jupyter-widgets/base",
            "_view_module_version": "1.2.0",
            "_view_name": "StyleView",
            "bar_color": null,
            "description_width": ""
          }
        },
        "df97fac0464b4819b135fe54aaae20b1": {
          "model_module": "@jupyter-widgets/base",
          "model_name": "LayoutModel",
          "model_module_version": "1.2.0",
          "state": {
            "_model_module": "@jupyter-widgets/base",
            "_model_module_version": "1.2.0",
            "_model_name": "LayoutModel",
            "_view_count": null,
            "_view_module": "@jupyter-widgets/base",
            "_view_module_version": "1.2.0",
            "_view_name": "LayoutView",
            "align_content": null,
            "align_items": null,
            "align_self": null,
            "border": null,
            "bottom": null,
            "display": null,
            "flex": null,
            "flex_flow": null,
            "grid_area": null,
            "grid_auto_columns": null,
            "grid_auto_flow": null,
            "grid_auto_rows": null,
            "grid_column": null,
            "grid_gap": null,
            "grid_row": null,
            "grid_template_areas": null,
            "grid_template_columns": null,
            "grid_template_rows": null,
            "height": null,
            "justify_content": null,
            "justify_items": null,
            "left": null,
            "margin": null,
            "max_height": null,
            "max_width": null,
            "min_height": null,
            "min_width": null,
            "object_fit": null,
            "object_position": null,
            "order": null,
            "overflow": null,
            "overflow_x": null,
            "overflow_y": null,
            "padding": null,
            "right": null,
            "top": null,
            "visibility": null,
            "width": null
          }
        },
        "47a352942f9b453eb76dacc9062440ff": {
          "model_module": "@jupyter-widgets/controls",
          "model_name": "DescriptionStyleModel",
          "model_module_version": "1.5.0",
          "state": {
            "_model_module": "@jupyter-widgets/controls",
            "_model_module_version": "1.5.0",
            "_model_name": "DescriptionStyleModel",
            "_view_count": null,
            "_view_module": "@jupyter-widgets/base",
            "_view_module_version": "1.2.0",
            "_view_name": "StyleView",
            "description_width": ""
          }
        },
        "6d5c072b04d342ea9c89cd0371b3ed75": {
          "model_module": "@jupyter-widgets/controls",
          "model_name": "HBoxModel",
          "model_module_version": "1.5.0",
          "state": {
            "_dom_classes": [],
            "_model_module": "@jupyter-widgets/controls",
            "_model_module_version": "1.5.0",
            "_model_name": "HBoxModel",
            "_view_count": null,
            "_view_module": "@jupyter-widgets/controls",
            "_view_module_version": "1.5.0",
            "_view_name": "HBoxView",
            "box_style": "",
            "children": [
              "IPY_MODEL_24101bb5b915406ea0ef72493ece7404",
              "IPY_MODEL_cf251ad8d4a143cfae3b54be5fc0788b",
              "IPY_MODEL_43925d56da0e4d188ba63911afbd00e0"
            ],
            "layout": "IPY_MODEL_6bad0148f1914366adae20ece697478f"
          }
        },
        "24101bb5b915406ea0ef72493ece7404": {
          "model_module": "@jupyter-widgets/controls",
          "model_name": "HTMLModel",
          "model_module_version": "1.5.0",
          "state": {
            "_dom_classes": [],
            "_model_module": "@jupyter-widgets/controls",
            "_model_module_version": "1.5.0",
            "_model_name": "HTMLModel",
            "_view_count": null,
            "_view_module": "@jupyter-widgets/controls",
            "_view_module_version": "1.5.0",
            "_view_name": "HTMLView",
            "description": "",
            "description_tooltip": null,
            "layout": "IPY_MODEL_c14f782278a6483c9792a1b17f281cdb",
            "placeholder": "​",
            "style": "IPY_MODEL_6c29a6c9fb21462eb56dffbfc8b1a873",
            "value": ""
          }
        },
        "cf251ad8d4a143cfae3b54be5fc0788b": {
          "model_module": "@jupyter-widgets/controls",
          "model_name": "FloatProgressModel",
          "model_module_version": "1.5.0",
          "state": {
            "_dom_classes": [],
            "_model_module": "@jupyter-widgets/controls",
            "_model_module_version": "1.5.0",
            "_model_name": "FloatProgressModel",
            "_view_count": null,
            "_view_module": "@jupyter-widgets/controls",
            "_view_module_version": "1.5.0",
            "_view_name": "ProgressView",
            "bar_style": "success",
            "description": "",
            "description_tooltip": null,
            "layout": "IPY_MODEL_247c292a7c8e49109d687c3974f1727a",
            "max": 311022,
            "min": 0,
            "orientation": "horizontal",
            "style": "IPY_MODEL_02d83c2fb7244030a66fa62a43a880a9",
            "value": 311022
          }
        },
        "43925d56da0e4d188ba63911afbd00e0": {
          "model_module": "@jupyter-widgets/controls",
          "model_name": "HTMLModel",
          "model_module_version": "1.5.0",
          "state": {
            "_dom_classes": [],
            "_model_module": "@jupyter-widgets/controls",
            "_model_module_version": "1.5.0",
            "_model_name": "HTMLModel",
            "_view_count": null,
            "_view_module": "@jupyter-widgets/controls",
            "_view_module_version": "1.5.0",
            "_view_name": "HTMLView",
            "description": "",
            "description_tooltip": null,
            "layout": "IPY_MODEL_161362281cf4447d9ead0e1aa8cc49f6",
            "placeholder": "​",
            "style": "IPY_MODEL_f7bdc6da8e5948bd863042a80d8a2019",
            "value": " 311296/? [00:00&lt;00:00, 804718.02it/s]"
          }
        },
        "6bad0148f1914366adae20ece697478f": {
          "model_module": "@jupyter-widgets/base",
          "model_name": "LayoutModel",
          "model_module_version": "1.2.0",
          "state": {
            "_model_module": "@jupyter-widgets/base",
            "_model_module_version": "1.2.0",
            "_model_name": "LayoutModel",
            "_view_count": null,
            "_view_module": "@jupyter-widgets/base",
            "_view_module_version": "1.2.0",
            "_view_name": "LayoutView",
            "align_content": null,
            "align_items": null,
            "align_self": null,
            "border": null,
            "bottom": null,
            "display": null,
            "flex": null,
            "flex_flow": null,
            "grid_area": null,
            "grid_auto_columns": null,
            "grid_auto_flow": null,
            "grid_auto_rows": null,
            "grid_column": null,
            "grid_gap": null,
            "grid_row": null,
            "grid_template_areas": null,
            "grid_template_columns": null,
            "grid_template_rows": null,
            "height": null,
            "justify_content": null,
            "justify_items": null,
            "left": null,
            "margin": null,
            "max_height": null,
            "max_width": null,
            "min_height": null,
            "min_width": null,
            "object_fit": null,
            "object_position": null,
            "order": null,
            "overflow": null,
            "overflow_x": null,
            "overflow_y": null,
            "padding": null,
            "right": null,
            "top": null,
            "visibility": null,
            "width": null
          }
        },
        "c14f782278a6483c9792a1b17f281cdb": {
          "model_module": "@jupyter-widgets/base",
          "model_name": "LayoutModel",
          "model_module_version": "1.2.0",
          "state": {
            "_model_module": "@jupyter-widgets/base",
            "_model_module_version": "1.2.0",
            "_model_name": "LayoutModel",
            "_view_count": null,
            "_view_module": "@jupyter-widgets/base",
            "_view_module_version": "1.2.0",
            "_view_name": "LayoutView",
            "align_content": null,
            "align_items": null,
            "align_self": null,
            "border": null,
            "bottom": null,
            "display": null,
            "flex": null,
            "flex_flow": null,
            "grid_area": null,
            "grid_auto_columns": null,
            "grid_auto_flow": null,
            "grid_auto_rows": null,
            "grid_column": null,
            "grid_gap": null,
            "grid_row": null,
            "grid_template_areas": null,
            "grid_template_columns": null,
            "grid_template_rows": null,
            "height": null,
            "justify_content": null,
            "justify_items": null,
            "left": null,
            "margin": null,
            "max_height": null,
            "max_width": null,
            "min_height": null,
            "min_width": null,
            "object_fit": null,
            "object_position": null,
            "order": null,
            "overflow": null,
            "overflow_x": null,
            "overflow_y": null,
            "padding": null,
            "right": null,
            "top": null,
            "visibility": null,
            "width": null
          }
        },
        "6c29a6c9fb21462eb56dffbfc8b1a873": {
          "model_module": "@jupyter-widgets/controls",
          "model_name": "DescriptionStyleModel",
          "model_module_version": "1.5.0",
          "state": {
            "_model_module": "@jupyter-widgets/controls",
            "_model_module_version": "1.5.0",
            "_model_name": "DescriptionStyleModel",
            "_view_count": null,
            "_view_module": "@jupyter-widgets/base",
            "_view_module_version": "1.2.0",
            "_view_name": "StyleView",
            "description_width": ""
          }
        },
        "247c292a7c8e49109d687c3974f1727a": {
          "model_module": "@jupyter-widgets/base",
          "model_name": "LayoutModel",
          "model_module_version": "1.2.0",
          "state": {
            "_model_module": "@jupyter-widgets/base",
            "_model_module_version": "1.2.0",
            "_model_name": "LayoutModel",
            "_view_count": null,
            "_view_module": "@jupyter-widgets/base",
            "_view_module_version": "1.2.0",
            "_view_name": "LayoutView",
            "align_content": null,
            "align_items": null,
            "align_self": null,
            "border": null,
            "bottom": null,
            "display": null,
            "flex": null,
            "flex_flow": null,
            "grid_area": null,
            "grid_auto_columns": null,
            "grid_auto_flow": null,
            "grid_auto_rows": null,
            "grid_column": null,
            "grid_gap": null,
            "grid_row": null,
            "grid_template_areas": null,
            "grid_template_columns": null,
            "grid_template_rows": null,
            "height": null,
            "justify_content": null,
            "justify_items": null,
            "left": null,
            "margin": null,
            "max_height": null,
            "max_width": null,
            "min_height": null,
            "min_width": null,
            "object_fit": null,
            "object_position": null,
            "order": null,
            "overflow": null,
            "overflow_x": null,
            "overflow_y": null,
            "padding": null,
            "right": null,
            "top": null,
            "visibility": null,
            "width": null
          }
        },
        "02d83c2fb7244030a66fa62a43a880a9": {
          "model_module": "@jupyter-widgets/controls",
          "model_name": "ProgressStyleModel",
          "model_module_version": "1.5.0",
          "state": {
            "_model_module": "@jupyter-widgets/controls",
            "_model_module_version": "1.5.0",
            "_model_name": "ProgressStyleModel",
            "_view_count": null,
            "_view_module": "@jupyter-widgets/base",
            "_view_module_version": "1.2.0",
            "_view_name": "StyleView",
            "bar_color": null,
            "description_width": ""
          }
        },
        "161362281cf4447d9ead0e1aa8cc49f6": {
          "model_module": "@jupyter-widgets/base",
          "model_name": "LayoutModel",
          "model_module_version": "1.2.0",
          "state": {
            "_model_module": "@jupyter-widgets/base",
            "_model_module_version": "1.2.0",
            "_model_name": "LayoutModel",
            "_view_count": null,
            "_view_module": "@jupyter-widgets/base",
            "_view_module_version": "1.2.0",
            "_view_name": "LayoutView",
            "align_content": null,
            "align_items": null,
            "align_self": null,
            "border": null,
            "bottom": null,
            "display": null,
            "flex": null,
            "flex_flow": null,
            "grid_area": null,
            "grid_auto_columns": null,
            "grid_auto_flow": null,
            "grid_auto_rows": null,
            "grid_column": null,
            "grid_gap": null,
            "grid_row": null,
            "grid_template_areas": null,
            "grid_template_columns": null,
            "grid_template_rows": null,
            "height": null,
            "justify_content": null,
            "justify_items": null,
            "left": null,
            "margin": null,
            "max_height": null,
            "max_width": null,
            "min_height": null,
            "min_width": null,
            "object_fit": null,
            "object_position": null,
            "order": null,
            "overflow": null,
            "overflow_x": null,
            "overflow_y": null,
            "padding": null,
            "right": null,
            "top": null,
            "visibility": null,
            "width": null
          }
        },
        "f7bdc6da8e5948bd863042a80d8a2019": {
          "model_module": "@jupyter-widgets/controls",
          "model_name": "DescriptionStyleModel",
          "model_module_version": "1.5.0",
          "state": {
            "_model_module": "@jupyter-widgets/controls",
            "_model_module_version": "1.5.0",
            "_model_name": "DescriptionStyleModel",
            "_view_count": null,
            "_view_module": "@jupyter-widgets/base",
            "_view_module_version": "1.2.0",
            "_view_name": "StyleView",
            "description_width": ""
          }
        }
      }
    }
  },
  "cells": [
    {
      "cell_type": "code",
      "execution_count": null,
      "metadata": {
        "id": "MtVeCsgICC93"
      },
      "outputs": [],
      "source": [
        "%pip install snntorch"
      ]
    },
    {
      "cell_type": "code",
      "source": [
        "%pip install torchvision"
      ],
      "metadata": {
        "id": "xUe6twS4CEZF"
      },
      "execution_count": null,
      "outputs": []
    },
    {
      "cell_type": "code",
      "source": [
        "import IPython\n",
        "app = IPython.Application.instance()\n",
        "app.kernel.do_shutdown(True)"
      ],
      "metadata": {
        "colab": {
          "base_uri": "https://localhost:8080/"
        },
        "id": "i2KUJywCCGO5",
        "outputId": "b16e16fa-f59d-444a-b120-0f65b6e5af17"
      },
      "execution_count": 3,
      "outputs": [
        {
          "output_type": "execute_result",
          "data": {
            "text/plain": [
              "{'status': 'ok', 'restart': True}"
            ]
          },
          "metadata": {},
          "execution_count": 3
        }
      ]
    },
    {
      "cell_type": "code",
      "source": [
        "import snntorch as snn\n",
        "from snntorch import spikeplot as splt\n",
        "import torch\n",
        "\n",
        "import matplotlib.pyplot as plt\n",
        "from IPython.display import HTML"
      ],
      "metadata": {
        "id": "6RanQzGKCIRZ"
      },
      "execution_count": 1,
      "outputs": []
    },
    {
      "cell_type": "code",
      "source": [
        "# @title plotting settings\n",
        "def plot_cur_mem_spk(cur, mem, spk, thr_line=False, vline=False, title=False, ylim_max1=1.25, ylim_max2=2.25):\n",
        "\n",
        "    fig, ax = plt.subplots(3, figsize=(8, 6), sharex=True,\n",
        "                                            gridspec_kw={'height_ratios': [1, 1, 0.4]})\n",
        "    # plot input current\n",
        "    ax[0].plot(cur, c = \"tab:orange\")\n",
        "    ax[0].set_ylim([0, ylim_max1])\n",
        "    ax[0].set_xlim([0, 200])\n",
        "    ax[0].set_ylabel(\"input current (I_in)\")\n",
        "\n",
        "    if title:\n",
        "        ax[0].set_title(title)\n",
        "\n",
        "    ax[1].plot(mem)\n",
        "    ax[1].set_ylim([0, ylim_max2])\n",
        "    ax[1].set_ylabel(\"Membrane Potential (U_mem)\")\n",
        "    if thr_line:\n",
        "        ax[1].axhline(y=thr_line, alpha=0.25, linestyle=\"dashed\", c=\"black\", linewidth=2)\n",
        "\n",
        "    plt.xlabel(\"Time step\")\n",
        "\n",
        "    splt.raster(spk, ax[2], s=400, c=\"black\", marker=\"|\")\n",
        "    if vline:\n",
        "        ax[2].axvline(x=vline, ymin=0, ymax=6.75, linestyle=\"dashed\", c=\"black\", linewidth=2, zorder=0,clip_on=False)\n",
        "    plt.ylabel(\"Output spikes\")\n",
        "    plt.yticks([])\n",
        "\n",
        "    plt.show()"
      ],
      "metadata": {
        "id": "BVJeSWBtCNfF"
      },
      "execution_count": 2,
      "outputs": []
    },
    {
      "cell_type": "code",
      "source": [
        "lif = snn.Leaky(beta=0.8)"
      ],
      "metadata": {
        "id": "dhe5oPTwCP3D"
      },
      "execution_count": 3,
      "outputs": []
    },
    {
      "cell_type": "code",
      "source": [
        "steps = 200\n",
        "\n",
        "x = torch.cat((torch.zeros(10) , torch.ones(190) * 0.21))\n",
        "mem = torch.zeros(1)\n",
        "spk = torch.zeros(1)"
      ],
      "metadata": {
        "id": "rp8LV52mCTQn"
      },
      "execution_count": 4,
      "outputs": []
    },
    {
      "cell_type": "code",
      "source": [
        "mem_rec = []\n",
        "spk_rec = []\n",
        "\n",
        "for step in range(steps):\n",
        "    spk, mem = lif(x[step], mem)\n",
        "\n",
        "    mem_rec.append(mem)\n",
        "    spk_rec.append(spk)\n",
        "\n",
        "mem_rec = torch.stack(mem_rec)\n",
        "spk_rec = torch.stack(spk_rec)"
      ],
      "metadata": {
        "id": "rO5pzHD_CUdk"
      },
      "execution_count": 5,
      "outputs": []
    },
    {
      "cell_type": "code",
      "source": [
        "plot_cur_mem_spk(x, mem_rec, spk_rec, thr_line=1, ylim_max1=1.0, title=\"snn.Leaky Neuron Model\")"
      ],
      "metadata": {
        "colab": {
          "base_uri": "https://localhost:8080/",
          "height": 564
        },
        "id": "nCidwj_aCXHp",
        "outputId": "2cc0b803-f6b5-4a9e-b514-c0cd5a46b37f"
      },
      "execution_count": 6,
      "outputs": [
        {
          "output_type": "display_data",
          "data": {
            "text/plain": [
              "<Figure size 800x600 with 3 Axes>"
            ],
            "image/png": "[encoded data removed]"
          },
          "metadata": {}
        }
      ]
    },
    {
      "cell_type": "code",
      "source": [
        "import torch.nn as nn\n",
        "from torch.utils.data import DataLoader\n",
        "from torchvision import datasets, transforms\n",
        "import numpy as np\n",
        "import itertools"
      ],
      "metadata": {
        "id": "wpiLidlNCY7o"
      },
      "execution_count": 7,
      "outputs": []
    },
    {
      "cell_type": "code",
      "source": [
        "# dataloader arguments\n",
        "\n",
        "batch_size = 128\n",
        "data_path = '/data/mnist'\n",
        "\n",
        "dtype = torch.float\n",
        "device = torch.device(\"cuda\") if torch.cuda.is_available() else torch.device(\"cpu\")"
      ],
      "metadata": {
        "id": "QQ2g31lFCcqA"
      },
      "execution_count": 8,
      "outputs": []
    },
    {
      "cell_type": "code",
      "source": [
        "transform = transforms.Compose([\n",
        "    transforms.Resize((28, 28)),\n",
        "    transforms.Grayscale(),\n",
        "    transforms.ToTensor(),\n",
        "    transforms.Normalize((0, ), (1, ))])\n",
        "\n",
        "mnist_train = datasets.MNIST(data_path, train=True, download=True, transform=transform)\n",
        "mnist_test = datasets.MNIST(data_path, train=False, download=True, transform=transform)"
      ],
      "metadata": {
        "colab": {
          "base_uri": "https://localhost:8080/"
        },
        "id": "nohHt5TICebr",
        "outputId": "7187842b-b1f8-4132-f5ea-014997389c7c"
      },
      "execution_count": 9,
      "outputs": [
        {
          "output_type": "stream",
          "name": "stdout",
          "text": [
            "Downloading http://yann.lecun.com/exdb/mnist/train-images-idx3-ubyte.gz\n",
            "Downloading http://yann.lecun.com/exdb/mnist/train-images-idx3-ubyte.gz to /data/mnist/MNIST/raw/train-images-idx3-ubyte.gz\n"
          ]
        },
        {
          "output_type": "stream",
          "name": "stderr",
          "text": [
            "100%|██████████| 9912422/9912422 [00:00<00:00, 96292007.60it/s]\n"
          ]
        },
        {
          "output_type": "stream",
          "name": "stdout",
          "text": [
            "Extracting /data/mnist/MNIST/raw/train-images-idx3-ubyte.gz to /data/mnist/MNIST/raw\n",
            "\n",
            "Downloading http://yann.lecun.com/exdb/mnist/train-labels-idx1-ubyte.gz\n",
            "Downloading http://yann.lecun.com/exdb/mnist/train-labels-idx1-ubyte.gz to /data/mnist/MNIST/raw/train-labels-idx1-ubyte.gz\n"
          ]
        },
        {
          "output_type": "stream",
          "name": "stderr",
          "text": [
            "100%|██████████| 28881/28881 [00:00<00:00, 31661185.00it/s]\n"
          ]
        },
        {
          "output_type": "stream",
          "name": "stdout",
          "text": [
            "Extracting /data/mnist/MNIST/raw/train-labels-idx1-ubyte.gz to /data/mnist/MNIST/raw\n",
            "\n",
            "Downloading http://yann.lecun.com/exdb/mnist/t10k-images-idx3-ubyte.gz\n",
            "Downloading http://yann.lecun.com/exdb/mnist/t10k-images-idx3-ubyte.gz to /data/mnist/MNIST/raw/t10k-images-idx3-ubyte.gz\n"
          ]
        },
        {
          "output_type": "stream",
          "name": "stderr",
          "text": [
            "100%|██████████| 1648877/1648877 [00:00<00:00, 26672109.92it/s]\n"
          ]
        },
        {
          "output_type": "stream",
          "name": "stdout",
          "text": [
            "Extracting /data/mnist/MNIST/raw/t10k-images-idx3-ubyte.gz to /data/mnist/MNIST/raw\n",
            "\n",
            "Downloading http://yann.lecun.com/exdb/mnist/t10k-labels-idx1-ubyte.gz\n",
            "Downloading http://yann.lecun.com/exdb/mnist/t10k-labels-idx1-ubyte.gz to /data/mnist/MNIST/raw/t10k-labels-idx1-ubyte.gz\n"
          ]
        },
        {
          "output_type": "stream",
          "name": "stderr",
          "text": [
            "100%|██████████| 4542/4542 [00:00<00:00, 10079644.85it/s]\n"
          ]
        },
        {
          "output_type": "stream",
          "name": "stdout",
          "text": [
            "Extracting /data/mnist/MNIST/raw/t10k-labels-idx1-ubyte.gz to /data/mnist/MNIST/raw\n",
            "\n"
          ]
        }
      ]
    },
    {
      "cell_type": "code",
      "source": [
        "train_loader = DataLoader(mnist_train, batch_size=batch_size, shuffle=True, drop_last=True)\n",
        "test_loader = DataLoader(mnist_test, batch_size=batch_size, shuffle=True, drop_last=True)"
      ],
      "metadata": {
        "id": "pNXnOVRzChZ_"
      },
      "execution_count": 10,
      "outputs": []
    },
    {
      "cell_type": "code",
      "source": [
        "# network architecture.\n",
        "n_inputs = 784\n",
        "n_hidden = 1000\n",
        "n_outputs = 10\n",
        "\n",
        "# temporal dynamics.\n",
        "n_steps = 25\n",
        "beta = 0.95"
      ],
      "metadata": {
        "id": "yDr4GbcqCj8B"
      },
      "execution_count": 11,
      "outputs": []
    },
    {
      "cell_type": "code",
      "source": [
        "from snntorch import surrogate\n",
        "\n",
        "class Net(nn.Module):\n",
        "    def __init__(self):\n",
        "\n",
        "        super().__init__()\n",
        "\n",
        "        # define a single beta for each neuron in the excitation layer.\n",
        "        # beta1 = torch.randn(n_hidden)\n",
        "        # self.lif1 = snn.Leaky(beta=beta1, learn_beta=True)\n",
        "\n",
        "        self.fc1 = nn.Linear(n_inputs, n_hidden)\n",
        "        self.lif1 = snn.Leaky(beta=beta, threshold=1.0)\n",
        "\n",
        "        self.fc2 = nn.Linear(n_hidden, n_outputs)\n",
        "        self.lif2 = snn.Leaky(beta=beta, threshold=1.0)\n",
        "\n",
        "    def forward(self, x):\n",
        "\n",
        "        # initialize the hidden states at t=0\n",
        "        mem1 = self.lif1.init_leaky()\n",
        "        mem2 = self.lif2.init_leaky()\n",
        "\n",
        "        # record the final layer.\n",
        "        spk2_rec = []\n",
        "        mem2_rec = []\n",
        "\n",
        "        # time-loop.\n",
        "        for step in range(n_steps):\n",
        "            current_1 = self.fc1(x.flatten(1))\n",
        "            spk1, mem1 = self.lif1(current_1, mem1)\n",
        "            current_2 = self.fc2(spk1)\n",
        "            spk2, mem2 = self.lif2(current_2, mem2)\n",
        "\n",
        "            spk2_rec.append(spk2)\n",
        "            mem2_rec.append(mem2)\n",
        "\n",
        "        return torch.stack(spk2_rec, dim=0), torch.stack(mem2_rec, dim=0) # time_steps x batch x n_outputs\n",
        "\n",
        "net = Net().to(device)"
      ],
      "metadata": {
        "id": "3URASNQHCmmg"
      },
      "execution_count": 12,
      "outputs": []
    },
    {
      "cell_type": "code",
      "source": [
        "loss = nn.CrossEntropyLoss()\n",
        "optimizer = torch.optim.Adam(net.parameters(), lr=5e-4, betas=(0.9, 0.999))\n",
        "\n",
        "n_epochs = 1\n",
        "counter = 0\n",
        "\n",
        "loss_hist = []\n",
        "\n",
        "for epoch in range(n_epochs):\n",
        "\n",
        "    train_batch = iter(train_loader)\n",
        "\n",
        "    for data, targets in train_batch:\n",
        "\n",
        "        data = data.to(device)\n",
        "        targets = targets.to(device)\n",
        "\n",
        "        net.train()\n",
        "        spk_rec, _ = net(data)\n",
        "\n",
        "        loss_val = torch.zeros((1), dtype=dtype, device=device)\n",
        "        loss_val += loss(spk_rec.sum(0), targets)\n",
        "\n",
        "        optimizer.zero_grad()\n",
        "        loss_val.backward()\n",
        "        optimizer.step()\n",
        "\n",
        "\n",
        "        loss_hist.append(loss_val.item())\n",
        "\n",
        "        if counter % 10  == 0:\n",
        "            print(f\"iteration: {counter} \\t Train loss: {loss_val.item()}\")\n",
        "\n",
        "        counter += 1\n",
        "\n",
        "        if counter == 100:\n",
        "            break"
      ],
      "metadata": {
        "colab": {
          "base_uri": "https://localhost:8080/"
        },
        "id": "JyzZlB_-ColH",
        "outputId": "ea989cc9-8dd4-4049-c362-bf0660a1af32"
      },
      "execution_count": 13,
      "outputs": [
        {
          "output_type": "stream",
          "name": "stdout",
          "text": [
            "iteration: 0 \t Train loss: 2.4857146739959717\n",
            "iteration: 10 \t Train loss: 1.0972648859024048\n",
            "iteration: 20 \t Train loss: 0.6996682286262512\n",
            "iteration: 30 \t Train loss: 0.6449530124664307\n",
            "iteration: 40 \t Train loss: 0.4721190631389618\n",
            "iteration: 50 \t Train loss: 0.4611121118068695\n",
            "iteration: 60 \t Train loss: 0.38107770681381226\n",
            "iteration: 70 \t Train loss: 0.2290082424879074\n",
            "iteration: 80 \t Train loss: 0.19889354705810547\n",
            "iteration: 90 \t Train loss: 0.2101992815732956\n"
          ]
        }
      ]
    },
    {
      "cell_type": "code",
      "source": [
        "def measure_accuracy(model, dataloader):\n",
        "\n",
        "    model.eval()\n",
        "    running_length = 0\n",
        "    running_accuracy = 0\n",
        "\n",
        "    for data, targets in iter(dataloader):\n",
        "        data = data.to(device)\n",
        "        targets = targets.to(device)\n",
        "\n",
        "        spk_rec, _ = model(data)\n",
        "        spike_count = spk_rec.sum(0)\n",
        "        _, max_spike = spike_count.max(1)\n",
        "\n",
        "        n_correct = (max_spike == targets).sum()\n",
        "\n",
        "        running_length += len(targets)\n",
        "        running_accuracy += n_correct\n",
        "\n",
        "    accuracy = running_accuracy / running_length\n",
        "\n",
        "    return accuracy.item()"
      ],
      "metadata": {
        "id": "hIID2kc_CrQQ"
      },
      "execution_count": 14,
      "outputs": []
    },
    {
      "cell_type": "code",
      "source": [
        "measure_accuracy(net, test_loader)"
      ],
      "metadata": {
        "colab": {
          "base_uri": "https://localhost:8080/"
        },
        "id": "kEiFOxNjCvEp",
        "outputId": "97228ed9-fb2e-4f34-ba29-55cee0719be5"
      },
      "execution_count": 15,
      "outputs": [
        {
          "output_type": "execute_result",
          "data": {
            "text/plain": [
              "0.9329928159713745"
            ]
          },
          "metadata": {},
          "execution_count": 15
        }
      ]
    },
    {
      "cell_type": "markdown",
      "source": [
        "### Convolutional SNN Classifier"
      ],
      "metadata": {
        "id": "XmE_4HzEC0mG"
      }
    },
    {
      "cell_type": "code",
      "source": [
        "# network class.\n",
        "\n",
        "class Convnet(nn.Module):\n",
        "    def __init__(self):\n",
        "        super().__init__()\n",
        "\n",
        "        self.conv1 = nn.Conv2d(1, 8, 5, padding='same')\n",
        "        self.lif1 = snn.Leaky(beta = beta)\n",
        "        self.mp1 = nn.MaxPool2d(2)\n",
        "\n",
        "        self.conv2 = nn.Conv2d(8, 24, 5, padding='same')\n",
        "        self.lif2 = snn.Leaky(beta=beta)\n",
        "        self.mp2 = nn.MaxPool2d(2)\n",
        "\n",
        "        self.fc = nn.Linear(24 * 7 * 7, 10)\n",
        "        self.lif3 = snn.Leaky(beta = beta)\n",
        "\n",
        "    def forward(self, x):\n",
        "\n",
        "        # initialize the hidden states at t=0\n",
        "        mem1 = self.lif1.init_leaky()\n",
        "        mem2 = self.lif2.init_leaky()\n",
        "        mem3 = self.lif3.init_leaky()\n",
        "\n",
        "        # record the final layer.\n",
        "        spk3_rec = []\n",
        "        mem3_rec = []\n",
        "\n",
        "        # time-loop.\n",
        "        for step in range(n_steps):\n",
        "            current_1 = self.conv1(x)\n",
        "            spk1, mem1 = self.lif1(self.mp1(current_1), mem1)\n",
        "            current_2 = self.conv2(spk1)\n",
        "            spk2, mem2 = self.lif2(self.mp2(current_2), mem2)\n",
        "\n",
        "            spk3, mem3 = self.lif3(self.fc(spk2.flatten(1)), mem3)\n",
        "            spk3_rec.append(spk3)\n",
        "            mem3_rec.append(mem3)\n",
        "\n",
        "        return torch.stack(spk3_rec, dim=0), torch.stack(mem3_rec, dim=0) # time_steps x batch x n_outputs\n",
        "\n",
        "conv_net = Convnet().to(device)"
      ],
      "metadata": {
        "id": "Uo44PaM0Cx7s"
      },
      "execution_count": 16,
      "outputs": []
    },
    {
      "cell_type": "code",
      "source": [
        "loss = nn.CrossEntropyLoss()\n",
        "optimizer = torch.optim.Adam(conv_net.parameters(), lr=1e-2, betas=(0.9, 0.999))\n",
        "\n",
        "n_epochs = 1\n",
        "counter = 0\n",
        "\n",
        "loss_hist = []\n",
        "\n",
        "for epoch in range(n_epochs):\n",
        "\n",
        "    train_batch = iter(train_loader)\n",
        "\n",
        "    for data, targets in train_batch:\n",
        "\n",
        "        data = data.to(device)\n",
        "        targets = targets.to(device)\n",
        "\n",
        "        conv_net.train()\n",
        "        spk_rec, _ = conv_net(data)\n",
        "\n",
        "        loss_val = torch.zeros((1), dtype=dtype, device=device)\n",
        "        loss_val += loss(spk_rec.sum(0), targets)\n",
        "\n",
        "        optimizer.zero_grad()\n",
        "        loss_val.backward()\n",
        "        optimizer.step()\n",
        "\n",
        "\n",
        "        loss_hist.append(loss_val.item())\n",
        "\n",
        "        if counter % 10  == 0:\n",
        "            print(f\"iteration: {counter} \\t Train loss: {loss_val.item()}\")\n",
        "\n",
        "        counter += 1\n",
        "\n",
        "        if counter == 100:\n",
        "            break"
      ],
      "metadata": {
        "colab": {
          "base_uri": "https://localhost:8080/"
        },
        "id": "-ZBsLmAdC2Qy",
        "outputId": "08c921fa-d465-4ad1-bf9a-ef17476c3540"
      },
      "execution_count": 17,
      "outputs": [
        {
          "output_type": "stream",
          "name": "stdout",
          "text": [
            "iteration: 0 \t Train loss: 2.3158323764801025\n",
            "iteration: 10 \t Train loss: 2.3025853633880615\n",
            "iteration: 20 \t Train loss: 2.3025853633880615\n",
            "iteration: 30 \t Train loss: 1.9528366327285767\n",
            "iteration: 40 \t Train loss: 0.9574185609817505\n",
            "iteration: 50 \t Train loss: 0.8988001346588135\n",
            "iteration: 60 \t Train loss: 0.43195009231567383\n",
            "iteration: 70 \t Train loss: 0.1964796781539917\n",
            "iteration: 80 \t Train loss: 0.39373263716697693\n",
            "iteration: 90 \t Train loss: 0.33110448718070984\n"
          ]
        }
      ]
    },
    {
      "cell_type": "code",
      "source": [
        "def measure_accuracy(model, dataloader):\n",
        "\n",
        "    model.eval()\n",
        "    running_length = 0\n",
        "    running_accuracy = 0\n",
        "\n",
        "    for data, targets in iter(dataloader):\n",
        "        data = data.to(device)\n",
        "        targets = targets.to(device)\n",
        "\n",
        "        spk_rec, _ = model(data)\n",
        "        spike_count = spk_rec.sum(0)\n",
        "        _, max_spike = spike_count.max(1)\n",
        "\n",
        "        n_correct = (max_spike == targets).sum()\n",
        "\n",
        "        running_length += len(targets)\n",
        "        running_accuracy += n_correct\n",
        "\n",
        "    accuracy = running_accuracy / running_length\n",
        "\n",
        "    return accuracy.item()"
      ],
      "metadata": {
        "id": "fRjzPZB5C4wB"
      },
      "execution_count": 18,
      "outputs": []
    },
    {
      "cell_type": "code",
      "source": [
        "measure_accuracy(conv_net, test_loader)"
      ],
      "metadata": {
        "colab": {
          "base_uri": "https://localhost:8080/"
        },
        "id": "R2I3w4wZC778",
        "outputId": "7bff6945-9416-4ba1-9e95-9c8730a94a82"
      },
      "execution_count": 19,
      "outputs": [
        {
          "output_type": "execute_result",
          "data": {
            "text/plain": [
              "0.9164663553237915"
            ]
          },
          "metadata": {},
          "execution_count": 19
        }
      ]
    },
    {
      "cell_type": "code",
      "source": [
        "class Net(nn.Module):\n",
        "    def __init__(self):\n",
        "\n",
        "        super().__init__()\n",
        "        n_steps = 1\n",
        "\n",
        "        n_outputs = 10\n",
        "        population = 100\n",
        "\n",
        "        self.fc1 = nn.Linear(n_inputs, n_hidden)\n",
        "        self.lif1 = snn.Leaky(beta=beta)\n",
        "        self.fc2 = nn.Linear(n_hidden, n_outputs * population)\n",
        "        self.lif2 = snn.Leaky(beta=beta)\n",
        "\n",
        "    def forward(self, x):\n",
        "\n",
        "        mem1 = self.lif1.init_leaky()\n",
        "        mem2 = self.lif2.init_leaky()\n",
        "\n",
        "        spk2_rec = []\n",
        "        mem2_rec = []\n",
        "\n",
        "        for step in range(n_steps):\n",
        "            current_1 = self.fc1(x.flatten(1))\n",
        "            spk1, mem1 = self.lif1(current_1, mem1)\n",
        "            current_2 = self.fc2(spk1)\n",
        "            spk2, mem2 = self.lif2(current_2, mem2)\n",
        "\n",
        "            spk2_rec.append(spk2)\n",
        "            mem2_rec.append(mem2)\n",
        "\n",
        "        return torch.stack(spk2_rec, dim=0), torch.stack(mem2_rec, dim=0)\n",
        "\n",
        "pop_net = Net().to(device)"
      ],
      "metadata": {
        "id": "4UGpDzK0C_Od"
      },
      "execution_count": null,
      "outputs": []
    },
    {
      "cell_type": "code",
      "source": [
        "from snntorch import functional as SF"
      ],
      "metadata": {
        "id": "n47PR59SDB-I"
      },
      "execution_count": null,
      "outputs": []
    },
    {
      "cell_type": "code",
      "source": [
        "loss_function = SF.ce_count_loss(population_code=True, num_classes=10)\n",
        "optimizer = torch.optim.Adam(pop_net.parameters(), lr=1e-3, betas=(0.9, 0.999))\n",
        "\n",
        "\n",
        "n_epochs = 1\n",
        "loss_hist = []\n",
        "test_loss_hist = []\n",
        "counter = 0\n",
        "\n",
        "for epoch in range(n_epochs):\n",
        "\n",
        "    train_batch = iter(train_loader)\n",
        "\n",
        "    for data, targets in train_batch:\n",
        "\n",
        "        data = data.to(device)\n",
        "        targets = targets.to(device)\n",
        "\n",
        "        pop_net.train()\n",
        "        spk_rec, _ = pop_net(data)\n",
        "\n",
        "        loss_val = torch.zeros((1), dtype=dtype, device=device)\n",
        "        loss_val += loss(spk_rec.sum(0), targets)\n",
        "\n",
        "        optimizer.zero_grad()\n",
        "        loss_val.backward()\n",
        "        optimizer.step()\n",
        "\n",
        "\n",
        "        loss_hist.append(loss_val.item())\n",
        "\n",
        "        if counter % 10  == 0:\n",
        "            print(f\"iteration: {counter} \\t Train loss: {loss_val.item()}\")\n",
        "\n",
        "        counter += 1\n",
        "\n",
        "        if counter == 100:\n",
        "            break"
      ],
      "metadata": {
        "colab": {
          "base_uri": "https://localhost:8080/"
        },
        "id": "8AKQFKvsDEnK",
        "outputId": "802a4449-840e-4575-b998-e5f36002e336"
      },
      "execution_count": 22,
      "outputs": [
        {
          "metadata": {
            "tags": null
          },
          "name": "stdout",
          "output_type": "stream",
          "text": [
            "iteration: 0 \t Train loss: 7.150913238525391\n",
            "iteration: 10 \t Train loss: 0.8922330737113953\n",
            "iteration: 20 \t Train loss: 0.7252842783927917\n",
            "iteration: 30 \t Train loss: 0.4287715256214142\n",
            "iteration: 40 \t Train loss: 0.2534106969833374\n",
            "iteration: 50 \t Train loss: 0.30166903138160706\n",
            "iteration: 60 \t Train loss: 0.18730475008487701\n",
            "iteration: 70 \t Train loss: 0.2740863263607025\n",
            "iteration: 80 \t Train loss: 0.17299333214759827\n",
            "iteration: 90 \t Train loss: 0.16341809928417206\n"
          ]
        }
      ]
    },
    {
      "cell_type": "code",
      "source": [
        "def  population_acc(testloader, model):\n",
        "\n",
        "    with torch.no_grad():\n",
        "        model.eval()\n",
        "        running_accuracy = 0\n",
        "        running_length = 0\n",
        "\n",
        "        for data, targets in iter(testloader):\n",
        "            data = data.to(device)\n",
        "            targets = targets.to(device)\n",
        "\n",
        "            spk_rec, _ = model(data)\n",
        "            running_accuracy += SF.accuracy_rate(spk_rec, targets, population_code=True, num_classes=10)\n",
        "            running_length += len(targets)\n",
        "\n",
        "        accuracy = running_accuracy  * 100/ running_length\n",
        "\n",
        "        return accuracy.item()"
      ],
      "metadata": {
        "id": "N7-XY9hCDF0p"
      },
      "execution_count": 23,
      "outputs": []
    },
    {
      "cell_type": "code",
      "source": [
        "population_acc(test_loader, pop_net)"
      ],
      "metadata": {
        "colab": {
          "base_uri": "https://localhost:8080/"
        },
        "id": "N_NJBkMpDIL3",
        "outputId": "05ec5703-8c7b-4c67-9c91-d6e26b3110a7"
      },
      "execution_count": 24,
      "outputs": [
        {
          "output_type": "execute_result",
          "data": {
            "text/plain": [
              "0.07652869591346154"
            ]
          },
          "metadata": {},
          "execution_count": 24
        }
      ]
    },
    {
      "cell_type": "markdown",
      "source": [
        "### Recurrent Spiking Neural Networks"
      ],
      "metadata": {
        "id": "R2c0NnV-DOw4"
      }
    },
    {
      "cell_type": "code",
      "source": [
        "%pip install tonic --quiet"
      ],
      "metadata": {
        "colab": {
          "base_uri": "https://localhost:8080/"
        },
        "id": "w1_loOY9DNU5",
        "outputId": "5186dbec-734f-4108-fae3-d01d245cfb56"
      },
      "execution_count": 25,
      "outputs": [
        {
          "output_type": "stream",
          "name": "stdout",
          "text": [
            "\u001b[2K     \u001b[90m━━━━━━━━━━━━━━━━━━━━━━━━━━━━━━━━━━━━━━━\u001b[0m \u001b[32m105.9/105.9 kB\u001b[0m \u001b[31m4.0 MB/s\u001b[0m eta \u001b[36m0:00:00\u001b[0m\n",
            "\u001b[?25h  Preparing metadata (setup.py) ... \u001b[?25l\u001b[?25hdone\n",
            "\u001b[2K     \u001b[90m━━━━━━━━━━━━━━━━━━━━━━━━━━━━━━━━━━━━━━\u001b[0m \u001b[32m112.7/112.7 kB\u001b[0m \u001b[31m11.4 MB/s\u001b[0m eta \u001b[36m0:00:00\u001b[0m\n",
            "\u001b[2K     \u001b[90m━━━━━━━━━━━━━━━━━━━━━━━━━━━━━━━━━━━━━━━━\u001b[0m \u001b[32m50.4/50.4 kB\u001b[0m \u001b[31m5.7 MB/s\u001b[0m eta \u001b[36m0:00:00\u001b[0m\n",
            "\u001b[?25h  Building wheel for importRosbag (setup.py) ... \u001b[?25l\u001b[?25hdone\n"
          ]
        }
      ]
    },
    {
      "cell_type": "code",
      "source": [
        "import tonic\n",
        "\n",
        "dataset = tonic.datasets.POKERDVS(save_to='./data', train=True)\n",
        "testset = tonic.datasets.POKERDVS(save_to='./data', train=False)\n",
        "\n",
        "events, targets = dataset[0]\n",
        "print(events)\n",
        "tonic.utils.plot_event_grid(events)"
      ],
      "metadata": {
        "colab": {
          "base_uri": "https://localhost:8080/",
          "height": 429,
          "referenced_widgets": [
            "f4877d54fb6742b29dbe39138a634a2a",
            "e3d5fd78845146938ddf317e7f60c309",
            "57950c3a8c5445f1b6e5aa0c59af18e1",
            "cbe0be3d9c9e458db2126a9c4a9eeacc",
            "16154051c5614556a5a550f0c07f6ac0",
            "4b381ff5d5ca404da4e07a449d9b1399",
            "8055e4a00220421fb44a8325997affd4",
            "7d9551e2788348a1875d42a02225a4f0",
            "3f2f0eaee4df41f4857a070ef280262d",
            "df97fac0464b4819b135fe54aaae20b1",
            "47a352942f9b453eb76dacc9062440ff",
            "6d5c072b04d342ea9c89cd0371b3ed75",
            "24101bb5b915406ea0ef72493ece7404",
            "cf251ad8d4a143cfae3b54be5fc0788b",
            "43925d56da0e4d188ba63911afbd00e0",
            "6bad0148f1914366adae20ece697478f",
            "c14f782278a6483c9792a1b17f281cdb",
            "6c29a6c9fb21462eb56dffbfc8b1a873",
            "247c292a7c8e49109d687c3974f1727a",
            "02d83c2fb7244030a66fa62a43a880a9",
            "161362281cf4447d9ead0e1aa8cc49f6",
            "f7bdc6da8e5948bd863042a80d8a2019"
          ]
        },
        "id": "jrW65qBLDRDO",
        "outputId": "47008b5f-9538-4945-ae64-b33e98f57676"
      },
      "execution_count": 26,
      "outputs": [
        {
          "output_type": "stream",
          "name": "stdout",
          "text": [
            "Downloading https://nextcloud.lenzgregor.com/s/ZeCPYBS8kx4Wyjd/download/pips_train.tar.gz to ./data/POKERDVS/pips_train.tar.gz\n"
          ]
        },
        {
          "output_type": "display_data",
          "data": {
            "text/plain": [
              "  0%|          | 0/700096 [00:00<?, ?it/s]"
            ],
            "application/vnd.jupyter.widget-view+json": {
              "version_major": 2,
              "version_minor": 0,
              "model_id": "f4877d54fb6742b29dbe39138a634a2a"
            }
          },
          "metadata": {}
        },
        {
          "output_type": "stream",
          "name": "stdout",
          "text": [
            "Extracting ./data/POKERDVS/pips_train.tar.gz to ./data/POKERDVS\n",
            "Downloading https://nextcloud.lenzgregor.com/s/2iRfwg3y9eAMpGL/download/pips_test.tar.gz to ./data/POKERDVS/pips_test.tar.gz\n"
          ]
        },
        {
          "output_type": "display_data",
          "data": {
            "text/plain": [
              "  0%|          | 0/311022 [00:00<?, ?it/s]"
            ],
            "application/vnd.jupyter.widget-view+json": {
              "version_major": 2,
              "version_minor": 0,
              "model_id": "6d5c072b04d342ea9c89cd0371b3ed75"
            }
          },
          "metadata": {}
        },
        {
          "output_type": "stream",
          "name": "stdout",
          "text": [
            "Extracting ./data/POKERDVS/pips_test.tar.gz to ./data/POKERDVS\n",
            "[(    0, 20, 21, 0) (  106, 21, 19, 0) (  146, 13,  9, 1) ...\n",
            " (15365, 13, 17, 1) (15384, 16, 16, 1) (15408, 16, 22, 0)]\n"
          ]
        },
        {
          "output_type": "display_data",
          "data": {
            "text/plain": [
              "<Figure size 640x480 with 3 Axes>"
            ],
            "image/png": "[encoded data removed]"
          },
          "metadata": {}
        }
      ]
    },
    {
      "cell_type": "code",
      "source": [
        "tonic.datasets.POKERDVS.sensor_size"
      ],
      "metadata": {
        "colab": {
          "base_uri": "https://localhost:8080/"
        },
        "id": "GMjQW6ThDSyq",
        "outputId": "bb1fed1c-294b-4138-aad1-b6c0b454c6a7"
      },
      "execution_count": 27,
      "outputs": [
        {
          "output_type": "execute_result",
          "data": {
            "text/plain": [
              "(35, 35, 2)"
            ]
          },
          "metadata": {},
          "execution_count": 27
        }
      ]
    },
    {
      "cell_type": "code",
      "source": [
        "import torchvision\n",
        "from tonic import DiskCachedDataset\n",
        "from torch.utils.data import DataLoader\n",
        "\n",
        "frame_transform = tonic.transforms.Compose([tonic.transforms.Denoise(filter_time=10000),\n",
        "                                            tonic.transforms.ToFrame(\n",
        "                                                sensor_size=tonic.datasets.POKERDVS.sensor_size,\n",
        "                                                time_window=1000)])\n",
        "\n",
        "batch_size = 8\n",
        "cached_trainset = DiskCachedDataset(dataset, transform=frame_transform, cache_path='./cache/pokerdvs/train')\n",
        "cached_testset = DiskCachedDataset(dataset, transform=frame_transform, cache_path='./cache/pokerdvs/test')\n",
        "\n",
        "train_loader = DataLoader(cached_trainset, batch_size=batch_size, collate_fn=tonic.collation.PadTensors(batch_first=False), shuffle=True)\n",
        "test_loader = DataLoader(cached_testset, batch_size=batch_size, collate_fn=tonic.collation.PadTensors(batch_first=False), shuffle=True)"
      ],
      "metadata": {
        "id": "1shpA2uKDWr2"
      },
      "execution_count": 28,
      "outputs": []
    },
    {
      "cell_type": "code",
      "source": [
        "for data, labels in iter(train_loader):\n",
        "    print(data.size())\n",
        "    print(labels)"
      ],
      "metadata": {
        "colab": {
          "base_uri": "https://localhost:8080/"
        },
        "id": "gzg4is9cDYgF",
        "outputId": "05200c69-fdaa-4f37-f424-57592b191c24"
      },
      "execution_count": 29,
      "outputs": [
        {
          "output_type": "stream",
          "name": "stdout",
          "text": [
            "torch.Size([28, 8, 2, 35, 35])\n",
            "tensor([1, 0, 3, 3, 2, 0, 1, 1])\n",
            "torch.Size([25, 8, 2, 35, 35])\n",
            "tensor([1, 0, 3, 2, 3, 3, 1, 2])\n",
            "torch.Size([29, 8, 2, 35, 35])\n",
            "tensor([2, 0, 1, 2, 0, 1, 0, 3])\n",
            "torch.Size([24, 8, 2, 35, 35])\n",
            "tensor([1, 0, 2, 3, 3, 3, 2, 0])\n",
            "torch.Size([23, 8, 2, 35, 35])\n",
            "tensor([1, 2, 3, 1, 2, 0, 0, 3])\n",
            "torch.Size([26, 8, 2, 35, 35])\n",
            "tensor([0, 2, 1, 1, 2, 2, 3, 0])\n"
          ]
        }
      ]
    },
    {
      "cell_type": "code",
      "source": [
        "def dvs_animator(spike_data):\n",
        "    fig, ax = plt.subplots()\n",
        "    anim = splt.animator((spike_data[:, 0] + spike_data[:, 1]), fig, ax)\n",
        "    return anim"
      ],
      "metadata": {
        "id": "camL6xFCDa_v"
      },
      "execution_count": 30,
      "outputs": []
    },
    {
      "cell_type": "code",
      "source": [
        "animation = dvs_animator(data[:, 1])\n",
        "HTML(animation.to_html5_video())"
      ],
      "metadata": {
        "colab": {
          "base_uri": "https://localhost:8080/",
          "height": 891
        },
        "id": "vk0l8xBRDcu8",
        "outputId": "5d31d1be-3e7a-47c1-f27f-482c19c73a81"
      },
      "execution_count": 31,
      "outputs": [
        {
          "output_type": "execute_result",
          "data": {
            "text/plain": [
              "<IPython.core.display.HTML object>"
            ],
            "text/html": [
              "<video width=\"640\" height=\"480\" controls autoplay loop>\n",
              "  <source type=\"video/mp4\" src=\"data:video/mp4;base64,AAAAHGZ0eXBNNFYgAAACAGlzb21pc28yYXZjMQAAAAhmcmVlAABMbG1kYXQAAAKuBgX//6rcRem9\n",
              "5tlIt5Ys2CDZI+7veDI2NCAtIGNvcmUgMTU1IHIyOTE3IDBhODRkOTggLSBILjI2NC9NUEVHLTQg\n",
              "QVZDIGNvZGVjIC0gQ29weWxlZnQgMjAwMy0yMDE4IC0gaHR0cDovL3d3dy52aWRlb2xhbi5vcmcv\n",
              "eDI2NC5odG1sIC0gb3B0aW9uczogY2FiYWM9MSByZWY9MyBkZWJsb2NrPTE6MDowIGFuYWx5c2U9\n",
              "MHgzOjB4MTEzIG1lPWhleCBzdWJtZT03IHBzeT0xIHBzeV9yZD0xLjAwOjAuMDAgbWl4ZWRfcmVm\n",
              "PTEgbWVfcmFuZ2U9MTYgY2hyb21hX21lPTEgdHJlbGxpcz0xIDh4OGRjdD0xIGNxbT0wIGRlYWR6\n",
              "b25lPTIxLDExIGZhc3RfcHNraXA9MSBjaHJvbWFfcXBfb2Zmc2V0PS0yIHRocmVhZHM9MyBsb29r\n",
              "YWhlYWRfdGhyZWFkcz0xIHNsaWNlZF90aHJlYWRzPTAgbnI9MCBkZWNpbWF0ZT0xIGludGVybGFj\n",
              "ZWQ9MCBibHVyYXlfY29tcGF0PTAgY29uc3RyYWluZWRfaW50cmE9MCBiZnJhbWVzPTMgYl9weXJh\n",
              "bWlkPTIgYl9hZGFwdD0xIGJfYmlhcz0wIGRpcmVjdD0xIHdlaWdodGI9MSBvcGVuX2dvcD0wIHdl\n",
              "aWdodHA9MiBrZXlpbnQ9MjUwIGtleWludF9taW49MjUgc2NlbmVjdXQ9NDAgaW50cmFfcmVmcmVz\n",
              "aD0wIHJjX2xvb2thaGVhZD00MCByYz1jcmYgbWJ0cmVlPTEgY3JmPTIzLjAgcWNvbXA9MC42MCBx\n",
              "cG1pbj0wIHFwbWF4PTY5IHFwc3RlcD00IGlwX3JhdGlvPTEuNDAgYXE9MToxLjAwAIAAABBzZYiE\n",
              "ADf//vbw/gU2O5jQlxHN6J0zH78VuLo0N73OAAADAAADAAADAbmlhf92d/OIIAAAAwB3J0L0G5zT\n",
              "4IR8AAxc9u9xVg5cnNkqw1UVI3VnVI+3uYHlc89JaYE27fJvxzEXV+uxGRjwEjXiRvTtRI9gxCIL\n",
              "RrtM1OMgOW0wiC88LaIUQqBMXMeDqEch0/yaILSzr835lG2Bf2ffBX71ndYJP4YbIdexbXJHv0Bt\n",
              "nRsx8zysuQtJuRS1VYziGn5x3L72X8AVzv19wSodMg8ifzAyBXwxZCTQS7l53lSaX3FkKvsgzjlA\n",
              "BQiurC+U2oVa6QWJhiGDfWUcZ9uPd1C9RAdMOrbDIyiHW33W96uXHVPi656u0yrQxt27TvB0KRpV\n",
              "YmgBpGyd4/9VZfSwaIjUVRvIlomSaPKJV4FbBh3eXsfrrk1XPIrIsnr6Dxwt7SsbMynU1qhCo4QW\n",
              "r9r0orkphVZU2fR+OjzI/AumyUBKZx/AzOGE+kPlnmxkiR0Or6Im9pbrYSIjDH9shPUPztS/VP4Q\n",
              "1WIJ4g3twTjYobPT7/qw75JvhnBYpx35XOQohE5XF/+aQYVJO4gSOp35fW/9aWRgVNvBQcWZSDsQ\n",
              "viSwN99x5B00dczbS5t6+KfIwlT8pEJ4ErHvZxvro/f5ziUPrIHuJJjrj2tG75MSoQ0NCLrqvKtt\n",
              "l5sTQ0vXHeG8EEptnZ3FwxYtAStc8pk5CuFaPfb/YOSMqK6Me3Fbhq5sqaUB72g/Mbc8b8aJ6N2k\n",
              "ZUCvRX+yXckwzsCMCxmjYS4XXDgrNPek1L4P2seXVvTQSBZ4FtYV6E82PRnhIqAwM9Ld45W8bun2\n",
              "BauNHvcPVoapQ5lR7lVrKuS0jHoJrgrrWL/jE7yr50usjK2kx8plyvwK+fEi4b867iA9umLNJe7U\n",
              "sgvpus95B9mIe/XMH5Tdw5Am3KQBVYSZeCKOWcBtGR1K1Gb9cQMNNXu0iMkG+EVO6q5qoVNdnKfo\n",
              "dOd5+UrbY+J7BnCO2YJUiLPnn2FkGaJNspAw4sDyBNV11a55x98yswxeb/KybrUxizQgDlFZyIXc\n",
              "ty2YY+OTct1SM01comm3P6nAVQckyN/JeJrRTkhR/1ICI2o1KRcnejgDuc17a2ytC4Fi1pKV/ngZ\n",
              "xf/nsQsRLjRkXJbpT+K8mKS73Pp7gH5Q52sgenkcSVlsXcn6sQbTge5j7vJQJccnSstI07X6iX7D\n",
              "8JAeR8erjJFDpR9MpQLDXBnab7kw0dviN1k3VqkRRjfKm1e7lrwUX9LwPxXjTNxbzWmd0hx8gVLg\n",
              "N23FUkPbIE9tuBrqxIqDCTaISpMx79e1QuzLf+iVFz42bs80+52xvNrM1+ke2ygWGxUI5omlXNYO\n",
              "4+tr4BgO8qr0HqWGsLyTIKnVYG3+ix2YCCpcwtzJxJpE5ZeXcz5Mqb/aHZ3Bj6D+NS4ZzzRTFClh\n",
              "278HJJbd33cLZML/c63g4U2TBGJdMeUSoiSZYQ6kb1is9237xDd8SwDDvbv9RLVfIj7dSzgWwys4\n",
              "IM1rxKvpsPTvSzfAL18mnZfo/3FfqdNzGIX7YZTCBVu6yzETIX6kSnGyszv+GbbW6m4VIEKaeOUM\n",
              "8nLJKko/hIyS3uHrxHVDPLWo2SotTqP8m9313NwxEAi/Dmr3qi+L2JKN+76ScBRjRPrK9nnRy6C7\n",
              "Lu3iOIPyNpdvX5gzK2zCOCVTRvTMYewcrGW0GO+xGqmf1UgznHdlzCSg5m17zzTudsRW5r2Mxoh2\n",
              "j7ns5azQPTH7t+Mpao754bmR5Gab845Qxrd4B1oH/EX4nTut06No7PP3iTZSXXwfZm34lXCi+2V+\n",
              "ay5ycJHFH+CWW8ul9Yzu0eBd8BaFeLhz85I5Nd7zUo0r3QO1sju7mGDeoa1mH0dgQzSx919CFyFR\n",
              "iQy+SdBSmf7GHk7EONxT5v3A7Ly4sZLOK5ONN15lCqQ3/2Vpq/Yo5FVhXFrw8wI6eXf/Q9LjjBQz\n",
              "PTLrImjD7SbO/51dMhWykj/NaVR2Qf7B/eK1szQbWexzi68WR6mwhdXlm8VEoKVl9xwM2VKEPZLy\n",
              "wfpcSP11n/+zHHeTsTDV6O4GrUdeNzkdhzi4q1PRSarxOw+H0lScse2RHahYNT3GgcSc35/75D9L\n",
              "7eKeh6x3nmNsEU7WDLdnX4aN7P+fIcNVjS3Gro2dGeEzSRtO+Zk1M7ZQ3sRX6FO/e3DTy8JI/X4h\n",
              "wCwoXK6lvOVuQXqyYDxHkAhPPSvKqaGVRmLoonkiF4WM3XNq7sQjV6YNoeUJwPCi3I4ams0EI499\n",
              "JMtXqiz+4BMVI1nEqdVmzjKF1dK7KJUKBB+rlRBXslkdckNOAl731IfFnPkZZMc+YAXlCgkaigAV\n",
              "O66W+62KT4uEcmluSfxiF51EtMtatViFCvaA6H94aG3GPfTMO5koSQOeHfuRPuQ9s7bYdFRFVwL/\n",
              "jYAn/558rmzkB2Mlmwq8bIW4T5Mh0ImaXZuZaULuzsZm3cGc14dZK5YtN8ZYl6hC1eFfPjH+Afik\n",
              "OUv6X7ni41+XrfKw2gS8vHKgmU+GxvPGig0p5FcMxHjVtLuL0aiNPsOmxZWT10//b6PItPwYlkXA\n",
              "Mc0/BpT6fFLGZTxfkwCWXwtv2vvURKH0ZGMxD7NZKhVQZ/aeE8zPPsMEiPEqp3CpUEggh0c6r7RP\n",
              "/r25wkLGOIgsi+HEzpj4Qm6/2ewUJyLITgL2LfKFUqLumsumJ9VwPZ5fqZQUR4fe5hvoG4Vm349R\n",
              "vnxFCjnxrFgKfN948QF2wrJ36psRJqTvnHgQecet5k5064noj3GdxE8iBFuo4/2fXnlCblbjXYpX\n",
              "bRx7ZoJ/lvgjY15SEcy9TLkZ1MV/mHd2nJizmzhPF9fGZ04A/vpPgItUe02nRjcvHBfJ1otVgCMz\n",
              "h810oDjDKjIM07kTXQrgQhtVAxHEgAO/0+nDOfTAgtcQ/oEiSQCwBpKUCkYXiHv5L6rQZ2GCu8Er\n",
              "7QtxhV8Ec+c/e9JBOjxRVZRO7Ql5865p7Yjco1W0GuxxYRLyw6iM6e/MwDNtA/xL7t7fpSwpAeuh\n",
              "A3gt4xReU4yGwV1pLJvHj8kNjdaMG5q4RMQr0deCSISYalg8OELZcPAlGpzpBZtWai3WW74oNXNp\n",
              "1gro/h1uQ1LiYowKrlKO40l+YUqtuiPhrJCnDJx1oyHaUrkGt67auZpCqXaGFcK2rig9PFBLF14t\n",
              "KeRYFlobcVHdtPsgO5LJtCQmh6HOdJ3xqgP61RSDOjs/qvB8RkbevbACPyWcj/wP1gq/zWBMwXbS\n",
              "ruDl37DpEBdj07KtyY5fD3+JlXOXXPWzWqzv9bRG9q/YEXLWvVMtmmBa65MTyi78+V1r0xA6rylr\n",
              "xzhYtGw3Rrr6rnWtPynyOcaF/Tr5p3TmSUYprI8XorNPwKq9brnjo/6TPZmvViMuXhJf4U7npcp7\n",
              "BFY7LzzRik8/o+nZ6nA4T0O3RrFlnoO7XTw4Oz2VLxh9n0hChCzgj5nxxF+PC8W5ChFQ4v88C3OD\n",
              "mHIkHrN1E8mS6S0q+TOof5hfn6dF/a/rNe5BbNYirb3MFcij5RR3WgFXvpb6Nl/9hpy5CqDUIJo5\n",
              "u/oYithUe5jqZUKJxab8UX2/4cuIysgSO7GLuzNKk1SSt3zhgV0D46QieQCJAlRMCUVEBdsNyWYa\n",
              "kx+tOORDm/SK2O6GuzhnGayBngAY5FnKDbbgR04Uvza02rciOBJiBO23pMTMsf3k1LcunXP5Guhv\n",
              "7xj3lWglaBMhPK+KnmTsMJYZmojyR6X5vJ8Mt/tIAovby1SxpYPQcQKNgqRLyQ7iY72ELESipIoe\n",
              "ogqJexgZe+izySgzitbB79s/pKWZC3HXVJTIzqgTYSmiWXCegdR8hTby3TrM2XykYi4FODlMmVDo\n",
              "iC/eIl9AZeQvvNzwhnaFnMGJeA58rBUJVd034+xhOGHwKwgVm8p2yEgyab3GGbLSV023l09eQbKJ\n",
              "vTK5NykRLfTyGzjLe7Px2enpTxO7NuzDZtgkgxPEx3iv2BL/uJ5C79CYsGBQ7y3GGR+K8nxeRylY\n",
              "o10oiS6EIqADJKh2GH4LwUqTWXtqs+TBnRWRoFcOntsXjf8zFQJ2hpsmdQte/zBrZyxTJgnoy/UL\n",
              "/1EyFPDyQmmuuGJd5kW3OziwlN2UvofwF6IUAMWKIQneD72Syl/8xg+XiatZhn2kEhCgxms79Tiy\n",
              "HZ+vwzBKHKkMwkbX3DqEkY6AcDFdkLCgRGA/sFxLKWN1wV86uVBZY+Lnvf8VHxk3khfa8XoJTtLB\n",
              "GYbofR5DaK3CO92KtODPFN80G0tfrhnxVsdx8khvFmwCFY1ywBqZTh/DcS/YVyx1rQ3Wq8Xmkavk\n",
              "8civpCj564R8/36xxBzacF/HSNXeVrrEHGWjLh86dZPxBfirc9SrruvmfaUNV8ZuxwS0VT1uTjUB\n",
              "KMyMO+cEvB8ehpPORaZjyI/RYJTVbvFWLrcLtporVoPPBjLscb7tEiBXafUSIZngsfyVjH5l/qRf\n",
              "0dI61oBRsLK2r1dBDCF6gw8SAiQB8TSqNii+0ut+G9lSZ8fOlR+PFomL0pw4iPUHlhGsH7jfedp/\n",
              "hF+fDOG3kzcF1opx9siPKdG+aGrmyyLo6+inL8MBbVV9ybEkD5RFijqH7Znl0Bw2DVjVk9c5Sp+9\n",
              "Z9CjgfCvD/7kJz01Zej8bkTCHPQwaK4AiATExpARIwA0kkzfK2jQAAQW7ReMKOuhoZWuaUDD/C/d\n",
              "eZwvqBdmjGlo0pstOkinZnFGqYp/0mLeYxveSQpOvndFaNVFRm7penk9QoBcZn1GAbVfDzvDacPk\n",
              "3NiOL1zirZZfdrbC3s2+jngF+Z5AYAz8MqabT6jauU8TDOodFphZdlSixBKrJpR5/Y2hzLlI7rsl\n",
              "hYtA2y1G7DGWJIXAgWJ2jPUXx4XkJk4Bg16eHTCLWYw3gp1M6nn8tIf3XIlMVhg540488eJLqlgu\n",
              "4OVJup7Vh6ALhg466KUMp7mYiGdzY/pR6TM+1Jy54w6qBeOb5T/j3IzQ35mdQvDKT6ccB9lYvHbG\n",
              "T7xwCAimZYXCXlaSeW7TkVlEXutqNnKGS8MLYhhZBIBQLVY/WB3xCyQEmBiccuOVgAACGuUcgf/I\n",
              "DUBq+JGwCG34bND11yDhiNZQhILIrEucJBjW93U4QjFgeffSGUgx13jEb7V/Bs1Jpihb9B0+o9t1\n",
              "TTfeFs7it6BwCfx4ICvq83oNe9Wb/uzyDdqPG8HqbT5/cUdd03NKWfXgZVQbc2gBnrDRwS4nc+FQ\n",
              "L7aAMGn2HWrzQEPeg4iBE9Fh3NxakZiVO1cEmVCEJTQMM2orzp7FvFPKEWvSGW0HFH4PR0vAacR1\n",
              "Czw229kqUQOXVpNMss0d9nuTlKd9RO0QMOWlmY138P/ahOC+UPoLZXAxtoLqA3r1KFE2nh+vLOAn\n",
              "Vyxvq7yGJ5oRL2v3Wka60hBc1fII9p0HtujngHruBzgA3xnmH7VMwJrCu1iY7sXpKOkes3wHteYu\n",
              "gorqXFzNm9e0UbwhT6/ntxpL1KuW4lo82h+E5MEyPf1P+WHwZ7fwg0ON8LLTc5NOuEv7osognbmc\n",
              "2fAAAIq3Te2zJ0irJFC9l0Lu0Ag5U5aNW2KC7jdLTQYEIPP6fgANjq86gAAAJmEAAA56QZohbEO/\n",
              "/qmWACQJg+YCCesnBo4dt36+yH9s6B0//zOs405CNyjV/G6U97YizSgG1q/28sb6dHzGha3PhRwg\n",
              "glBJJXrLfNUjEvPWlDSCqag57HHQRBI5MsaFImNMmAgE+F3zW6LqMmYeyF7DPGsgQ4yMQLbFu9s0\n",
              "D2HHVs9/02IkxGt2rTBtqnYDRrosEXX5O4jPYG60i8oPDfK/3dkBhKmO0TtDSf38I3KtdIkOXayx\n",
              "/aSEEy3k3Y2kQYKh9Bl7jcbuVGYCPgcOptPa4nhUQhhkiGjdD6t0Wt3DnCcysNwswqJLqemcEEVZ\n",
              "eir1vj1GiYy0hHU1pz3BOrpryWU6m1wlMlAMR+59qJjjk44yUB4oRRVLhzCwwhV1dK7xK3OMy8pf\n",
              "zeUG5TyaHVANeyk4Hj//8Or67RMpb6/WjX9qUG5flYY0LtJb2AHG4FxqwxhPYcWU5Jy7N6WFzbN5\n",
              "2D7zTGM9yLhJ0nJkBmwOZwwP/oVr9vr7+ZbF3gZpfTqPOpHq2b2bXgQpmkY7PvKJOXOfhgmJmxVa\n",
              "zfiU8o6IixcKxaIgju/S1hZqgEl/ypAQ6JqQzqTPOMDaVBdW014pW7z9RqIpz9GPVzrocLA8i6kH\n",
              "5hfUBDOrIqHZnHEkwdN/ySy3tzABdk/Fyz66c3UaGqqba5EzhSFczvvlJKOWyuw4DqiWyAb4oMW9\n",
              "A6BTaHNg2G60QAEEi0re280GIjEH03O6h/NkxK1TCfQybsNUz4TJyYA7WMD6FpUkxtFgUBOOiI2u\n",
              "PYSKSXa+SbzeJ2HvZQ/uMWVOHgQI3iFrBODMYkKg8d7Hj36zIdLhcV7qiO90BYi/AkXZkx1DL/J0\n",
              "r9qmanpjxTasMj5IbEwLj48nxBNAK01jnRyeOAh36nIY2IzIcLSpIR3N+LmhNrgQAsQMQtQsxZFE\n",
              "EQ8mcpL7/TeMQ31x9xts9AZET2d8pUQ2s9yfAy6zs4tIIGo4c9hfNtKf9cMRc2WuIdR8nQDAIMki\n",
              "J4+5gegE0L4dSG/A4x8H3zt6saNpIbMASKncqIINvx3zm1G6uYQWtt3Dj8YhVJLZS3oZDpTwNpD7\n",
              "V3dvj8DvE9shGL5fPyhl8zhhmQb9FO+gF78AtoyIKf/nlKe+nNx9ottOJnvYhP9Ar9kO601ofCIi\n",
              "m9Y5H1NuPy+SqnWRZ8DzIVwwFhwxmw7FiX+smDVK1Fs4hcO9XkLLrWH8gd3JDj3PX0oJCq2SlROA\n",
              "fFO+ZF1nwqac+LfjjGu23WreANuhIoVLxLN9gGC4lSw+CZ28j54BvMIdAvdxvmQY8qDCOOnruGrk\n",
              "6PJScABj5IoAbOLrS01eV5ZdwdkKydR9VX0g4CSX6C7ZH8EvXb3l2gcjUT+rydhoBRcPZqPM2xgt\n",
              "IgkJa0rqmb5s8jsjNsbhO9Ff6uGVElKR+6VA/Ra6O4VmtwCbcZCnG83v5lNSV/e11bA/KcFTvCdS\n",
              "V5XdFoYbe/NSaxmO2a8b/xrhhlEN45bgDBR2rGHhjMe9SPOPUydXwjxrzrroHQWg1h+JmLBu+iJ8\n",
              "bMpFeg19u6n8/e9A5H0+SyCPeIZXN1fGXR+wa7oOx4B3jyU7qhr9xhGq2TC+82BmLFxU+FPCyw70\n",
              "VK8Bl/0GasTTeHkWItnGP/oJnItd14E8hkU01xHM3n8NGnLEpI+fZ7PeFZJ/Q9YRJb+p4TtJvSWh\n",
              "ZSCgN8E6epZlzJ/mftGRP1h5vos4sQYWoiUZjLwrSa/PWmmcPlnr0Sr8PPxBijFhBxhQFG40lAiE\n",
              "w+9jzT2wVGXFZjU/th9ka0peOmPA/g/eS8CtPdnNMD7/XtpCnyYze/xxqDMpzZCRDorxvQqvzWXa\n",
              "FLSTPiuU+H54EPPXFKMkhvDZMgzwxWdcvIYMZE/KPfmMxm0P/pinUbgLGJlFWTBOGNE+nO6AlVYO\n",
              "zZ6O8VBRIzi+aD6kbuXpN7eKp1i2QZN4E6guQ8zrTRX+QwFF/NWwz6jExWuKS3kUz0iWOH3+0Vid\n",
              "YL9gwbRaSBC9JL3C+NHbTR3C6MEXy2CyPPRW+Zjeba9ct6qxC+u4w9XtaD98es/7M9Z9lhMVB4EC\n",
              "ZViUuDmdzkyg05yAM3JbqiuGdtuqwoxDeX0VlWeDH8tQCtSkWyXww17j11P4XOA+KjWeWMAUz8oH\n",
              "YamDU7ZjSiOkG5UnIkk/Y1eZin4PdRLYoD02cwIT3SMhkH1Ba5B8vgDT6EA/u7MlQck/BlrXH4rM\n",
              "QpZAfTP41FAcOAsql5ZZiOuRNrdpfuLtDQhxJcnLvjAZF/8fuK7BZtTR4rP6OKuOBLZv+f+lEIbK\n",
              "7z0zbnscU7n43jrEXdQCnALpNEhEsBfcxjoGTuyvCaNSEVKFK7kN6hVlad9WRdYEuhTCTbcOSbAG\n",
              "RtcYzEh88V6QHhvg9BM/CDQSlIkU1JHPKRELs/P+wZbW+faKHq3j78iaVjsFuETJm1aiFeLM4zuU\n",
              "z1ad3NvZJ14F6eZ5UkkhpXQw5dRvCR925R3MWlOGvPs7dNL5QcTKf9goiS/bgvv738D2gEQPgEpQ\n",
              "Fky2wBbca00BqxIOeVg8DL9SGeyiKuuftxtpl9M9G83ubjLZqaFk1prqvHE/wVCC6OwJ0vu2zvqo\n",
              "/5zc9c2gpetMsZjPXAWF8q1rbAdI1nrcya5qdW5JZxL1a7jfwqkQ++JJx87vY+jVoCXev3HL2iW+\n",
              "XUhbIwT/01KIzXUQsEtjntmhwwn2Z2dRE+IvmveKupBfvzclgrIRVjm/q7/ZT8Nuw7xKfl2IF+jN\n",
              "uYnTKslecJ8m2N9HIpbNxw6nuu6GxAMNvNYIMuA+zx4zRMzbFXQb2lAdRuUEorAqXqIwoONpJ0su\n",
              "/sPqdUY+ya9u0h6k2Iz1JBDU8X8k8xmyMMCCVhBBMv5Gra9vnbZMMqY4sYZTesLHEk+meWMu6Ddc\n",
              "OaLOlQyEudYtigHNX+JWUPeLcfnI60/XXTcyZ8OuTRY+OcXh96jP3ptnVyJU6h5/fAeFGEP/cDPv\n",
              "keKVMClJh9EhP9loE6/hOAqpxNtVFsE+Q2MUGhJgmOKub/WXzy13b/jeNkiS9WSw4R2WMCZp9pv6\n",
              "0nYlGUeXobUlP2mGSNeydCpNknvPYy6jKayAFOiC5KpuSsZJmL/9yiVvgk0+bLe5X4+RFOJZIeAy\n",
              "Q94KfiOv1qqDVucQm5kRQohQ5uOre04JFOWuLIMRaXG87jk5O4VzICygXTMbuGzV/l6Wm+lJ7K3/\n",
              "ya0j+vdBvNP+UjYAB0ai47bqYSn3ae/VZC4ceRHFyCCv/936T94r9ksMwwlsRBKxFGFeYXVmpmPF\n",
              "8yOuP4l9DxpAP+L3eUHMkC3d4dpyegpY3XpboTBfYXI3j29iBkio3knYhkXBGumJiOtt7d8UVWgO\n",
              "+fzlRYZq1tHJTbaJ+ztimBdSOF1QEvzAwHHXHkNyoessUwztMALfCYwF5o0d9VEZyXOc1j4czjrp\n",
              "m0yrKhDRIozkxX6OMiY5icNnVc/aiKMYUGJmsjM+Bb/xApy/a47aZTopr1/dL8+vV7GdrBy8LnQE\n",
              "2AwRZhRRYkUm62AjWRgPmuuUxo2oyWa8vfDWrrCgjXPLkhcSCKjod3SYVsPZZJ3j6q/sWsrXVkaz\n",
              "+b+JL11WhzVYnmhgvqq6C01V97epD3Q9GV5nqdT/DZck0pAfxarnvWHlcW/UShW7va3sN6+krDKK\n",
              "PRh5qda+h91PnXzcGftJke4yeBkL0Pk7a/hVW36FeqEcI3ck0u3iwdbxdknFoTsXi6zwxBqdqXup\n",
              "ey8CUkLPzVflFR4IsyAfJIyF1hZQsJJ4l7Tnb7ZV/ZpqW8/nDzO2stwCFtC2RQf3Eh3+G3sMOLXI\n",
              "nPWwHnJmhv/FG8jbHldijHTtCdz2PhOUM9fj4sN3C0vlwygBnfjr7MfM/HJvnWRoG1JjLij5h9VN\n",
              "XDlyaGykzgUiAD591yPFj41oEoO6NBVvQrm2dGtuBAc1LVMiWwJ5y4a2SdZeD/91TwEKd1lq1QBz\n",
              "DQEhUtmeCK94l8POhy2lt2kPQ4hKwKcNy55uKZ9w+d0JWATrEbyqUKg/qsCJdIP9FyS0dhZEy6h6\n",
              "jgHwCY6e85JgbLfNfhGak+DPyLPRFq9R/3izEj4FCThanY8dU7e9liBWCuxZkGp9Ohplf44ATmNj\n",
              "JIBuaXA3e35wX5U5wYtcckyMh4NXPTMFLg6dSTiTaZeBX4RHQ6CLQXcmfecfm+3jYa6X0753I8Cp\n",
              "HLLdAHXmxevj7OXkD+JjIDB7MkgMXn1qpQP4HtrCMSQ0rdyj50XJ9WheH86Fdng7xJcc2V4Wroja\n",
              "TE2LC7yE19//gU6XrT0fc3mBjyGqOVCrGbM+N5luCBDd2LSAfbmH5v3zx5B0bX8NREReehCQyzTU\n",
              "O0Cd0DjZiCNOgB++dwYtjBp2xtOTPvmXPq8HffImIuedtPtYmx34bLoxFN4dWCP+l4R4KYLIgQgf\n",
              "Cu8x+77qLH6+6g22fvQ7XeC4MUjUdVnQo2AWpJoNCzbLv0KCjR+t9InDUxJVNrdXG+6lb6ER1xWe\n",
              "NLm/LM10EM4AXKgcFkzznRYYL7+7pzTN7ni1IEm9LWAT1lt3pgcvG3UhCM/UISj7DtezLeRk4/7I\n",
              "AYGyOzOTT/uS5o6B//Q5IOyPhbmI8F4kll3rsJCnpSWSU49fOFlQfktv4dv+D+QoPeWwD9RYDila\n",
              "Ab/F35NAmyLsoLhkq5BQqU6lgsXQJEWtpS1L2d5QrYhM2HoDN0XZ/qpEtZopiTlzLBKjfjRFEwDZ\n",
              "4Uu269Il+GTYTw1lnX0PMbwPlNmGjhqMJGEVzRi/FujsL+rgA3oN8jzZnJ1KJtZaUbNXVLs2KFvl\n",
              "2Oi61n/JroWnB2PBuR2QCgapQm6VrL9UUDNPgLFB7Y9V8w2yDlRMWTz3EiIbw8DkwlNwLy6rrGV+\n",
              "wgfdjjSVqyxi053FfTSXZq3LZsImGs9KLl0jm3uUbcfgEdKFIlJfNLbxRUufX5xRFcELiAAABphB\n",
              "mkU8IZMphDv//qmWACQKl5M1kT1JBley5c0u/JbnqgwMcRmXMLOxrNV1QG4WhY0eC7AABoAAAM33\n",
              "AAYBfBHDvyfBZkOYAXReIZ01FjQ+Z7UyLArnKY019DE+GVkCfeDkDbdnR3OVjJeQKoDa824m4KOF\n",
              "naUzhFXvrVsBtg7YHDo4YepOu0W7+m2Tu3h4CIXNSdjdYSc/RCpzo0ZK3zwBTjmd/8HCOfInO9Ts\n",
              "a46DfZDExBPOUfAXjPo5eocbsRLhea336/0bUxixOhfWtTeWHL/KZbI6Yy9+xDurx74rSX4YjtUr\n",
              "/+Ch4Ft7DA94bZ2H+SCvcMcBV50xpYn3CziZhjm9HWWEClrb0VBistRTVK8UTGF920zQ0RbQziSA\n",
              "2yFRfNoh8yPjv6VF/uzSc/Aj3rM8by+qhzj/3FSVzhZ4+Yzh4n3nOM1L3D1PnG0DSk+EyOMM/h2V\n",
              "F++QAzlGY3EnyR8Hefp3G/mgrgpwgZos7RoGJL8YIC4cR2faUZmKV58+T+3kasNwiNjAl0QCzj80\n",
              "LMBG2+KZqw1epuwLc8ByfUsdnNd67JISlNFEDdeAWQkeWgfFs9Xl3Pxc1aUponZ4nA+24ak25uH1\n",
              "myWY0l7L+2dYXhupykKNxkH4yG72gjFqbMZgk8s8x+uOJ6/r9INB63Mz6IAZVXdfTsGgcSjCRqr2\n",
              "7Bq/j5NYwnpFcKb0puVTpaBT1UZ2w4tkyUu+YZXwZXFOF8f03EUu671jV4KBSByRceL5d2If5jCr\n",
              "8b5qvJBjERc58O+G4VXIg7nrPjHUJ9iUWFLiq1+4Nt8YQhN+5N8JAEgAY/if+DJq+rL/rjTrur5p\n",
              "yLjmF6KTABFwKmmhLRtLXUlw1EAm7sh9HsbelR9m78EQIxGhKf341Onvas9bLdWDYCWFzgwl1DQW\n",
              "5OnNaCu9CJSPapYYSElMKYV+m0LovFWv2xE5GtnUqbEXpl4QcOP9ov25rBfey9NkCzDW4E6+lTD9\n",
              "4DZFCvfLelRgmfMckQo4c9XtRq243Z2pwzEYazdjGyM+NjDwwHn0ks3zm7ikgb3t7HDsfO5yMtZw\n",
              "igQ0w27B7d2yEz6Z6wIfrFTFWtUaGRAt6TibnZn6LOG1zc97euFmOJ3n+e9aS/qgP2r2lzro8E8s\n",
              "M4cHiDCsqc3WhOr7NmCpg3SxoRD4lujWYm89Cx78idhOuCyb+jZosIFgh+D580ZUOZDrhxKw2B6s\n",
              "vVUb+V6sOEMswMVuy3cjZA6hUAA+tnz01iZEmO27SLofflFbOXqRgBm1SS/jzjvErsye716xGJD8\n",
              "535x2FWmRPjzu9qFY+sfNtKkPyYt8ttvFE23L6njmT1gzuHlQQGe6/Tea1mYEmdR/ADXfsXFvgdw\n",
              "5um/DKEC6ykWxV+F/BMLDL0aKBE0YRkkAdiuz0asFyIHQxBG0jDtx3nNdvgrukJfVVaZPV/RoWmB\n",
              "tAhmM+DhtYnrXcHIhffAWW+5uI0lgqTcLGw4QubUStmNVWs4Dc2Zoe6uH+ZdmgJsSNhpnDgErYsv\n",
              "W9vZzf2GEnq9RN3UEHLG559dy0IXGTg8Gacg7CJox6ugmtbIzpdq47ldff90JCCuXUwMjWuX6/bS\n",
              "S0HMve/7tsjYw9hD3PzTFO1o2573mWrmjo/iVSle66u/Pp7F5NWb6mSNSZwX+/3eBZWn+WKlW4v5\n",
              "YZZB9ZEt3Lne5nCiLokDYLSg9Hh6WNZtu9rPTGoDz+e+h2tCCg7iDDRdAKhAO6HY6lH67utzXDbp\n",
              "Y/UsvHS8ndQGNfh1bl5Be6511E6P4DXa6BGXDTs3UCtYWVK3UyXOD7YORrBBRiwTQWO/rTJxCE76\n",
              "Mfd/0xNTgqhE3OO16GVFI4UxJKi2yKh3RzdVgirSosaFNRYXpjnhiHp4b/w1WHolEaD8Bmq0tJYm\n",
              "YErJd/P7hxDawIKPTRXCReoeKqHM5rOw+6gyi+hR80yBedQj5w4Wwcb0eI4u/s4+wnXXihtu7aOP\n",
              "KrS3jmi7jV11yfvsCkfJOXvESf91Wz5rJO7sGxofX/Vda2LvcKZkTlWxWcuJm1BIFtGq5S8JPBG0\n",
              "FJOEhfIs1XE3sK4q6aFxw27tfzljJnVva0pG4G2XWepEJOcweF5/V1hVuRtjnxfZIgyQfk/oQb6Q\n",
              "hDwh7cOTIqiyyaLs/CDj0rO2w2WEectvit2e1p0KlDEddowjuCXOIz273TN3dqJ5DPn9bNvAzCTW\n",
              "FOgIpkqEgWN4fW40biJ3hRzphemJ2NRGuyRjuxt+x/dJwQAAB6BBnmNqU8L/ACssGoTGu1SGU8a0\n",
              "rZvsyg4D/JPcneAWs27W32t307XKKuXx29/i2R2RdRzVLMp/MMHT6w6Lfr4phw95z/8Kw1ckmHdt\n",
              "VCRzzikntS9T+OJIQwKotpcJhxNu3W5aADym0B+SNL9ct/isY41Jo9kkRU2mTEwrdVaQQqACKW9m\n",
              "VSih7YXAhkKw5mB9A831zPGSE4uOzYyLBjuiwHzpKZTK0ks74XY8/rmp/f/wvmkRfE/y9i2UGYZ/\n",
              "zYvIBt2hzivbde/GWhLSXa45iO+gfecDfMw5pHLLKJvi939rP9UtyfxUTdnvJgA/bdlGt6j7L1to\n",
              "b7O7BPOorg1WJoW6nPKETsN45T3IFI9NUEkHotEhgCuqkVMqwWp3x3fREP4J4RSOW1mGR87I4T+e\n",
              "Vv5iBuHsTapf1wCyzO+xlMQspTuoC7ElO1pOhXkyugfAo/Krs9u/9cORdO/Iju0MDCx0rUz+TleP\n",
              "iHwH/L5ZNTsA+M2tAiNFsLiY9ZKGqrQ5DNbLRHAB8poZwi49Iz0ttaB31Gk2CD+iP5NTloEfVzIY\n",
              "2LauU/1ozgdmXmoVv7icVhGdEteol2bhElkHnqDvyIYLHIZ8vZvIKCrfJZO/t8MR+wVBLAwSHp7t\n",
              "DMcjZD3Vb22Cr4TxXp0bonyRRYHyLBjfhZdiSaXCthosk4Pm5HI2J/dxGZWsdLfmouHtxpKK/EK7\n",
              "AifUEjB0No28tkryBprkKbw9sBk0yzSCpZVuCz+ah45qgb4k9wIic3zoQIlOdJBPBUlmY+dum4Ec\n",
              "+IIk/fzRGd5qO0buZ82q0V0qb1rIsuyq17/DBkXfTjUYbrbQ+d7lM2jY+2/xgm2l3l3Y+rWWW4DQ\n",
              "0SKvGvILM0Kof2v2Y16I3fQ+VUArfyNziwbcIs7FAWbF4KkGvrWr2Pw+gdNG4ZcELYdZYgMCaAYV\n",
              "r7UjTfHXDdpDA896OpddGJ8GHHSb7jLrKzbeDckW4nOy4nrfTPOakkAK68fGfl0MkvBmFxxbmiIf\n",
              "//EyPtzV0d0gV9UQVyaD1xxbJr4e4YWc07Ik4T0XJ9Dxjesh+qAhpbXWcBOUfZv/ijLJUVjv/N51\n",
              "Gqa7joqNgv8iPQIN5KCBXuL27JVdWR6JISC/aFsw2d6cznpVVOzBzE3w8TS0mhLQsm0yqv9+GwYn\n",
              "fNRL5N5N7yGqs8cElifnN4W+BGFJ4gHX46WEZWybfolaP34wXZGW/z+IfHbE8Aoo3unkjSM/v17A\n",
              "YgcQ5r2NpNMS8v+TKN0PThh6EywTHYYLUGJn7aV3EJ2T555i7NNx7UBEiRFPCd6w9vaQmJ87gu2A\n",
              "YIdcw1AYCXQvO2fa7kMozXy5e2DLORmV+EohClMhUqv8cYMSZJHZBwfWgpYrHdozcVkh3aJRijCH\n",
              "u8bZDs1UfDNvLnCdvIx1iUlKGlZEOk2nyZ+e9+PmZ8yidTC7OI+IlKLDhmMs3Jk21fgt2zHotiiu\n",
              "18zBGrFj5H59IhB+UjfKSdpUn85rWpKk67QxCnHk6mdgTN7zgCvo0LL3nTS9U2s7dCSJ5q7RbQAe\n",
              "0P9wVpPxOfb1ezc8hvjeW9xBkREpMKtUPqK4yIkoXc1/W7lPw+ARgmVeevq6DQMyukKd0ipjSuwJ\n",
              "XpDOsSEwGzFLOpk3MnaNlYbDuGn4mobtxWU1YNxmfpkaXzrL5AonH6UJ7AhfU23sz0TrTvKNBLhA\n",
              "gdBoUyx3aqGQ8xNXleRkt28OmsFpCX7CEntaGOZMLVfO8w8taUa2Q51rYzXLWvfLxrkCCfvVEXrW\n",
              "ih9RUAuznHWpoh7FBs1fPs3spLVVebf9cx0dZfLPMI1NGQCR3Cig2qH5yH26tz0GsRHDIzMuXg7T\n",
              "iGgWI85zZEmSDhmo5QM/1g7u8XukJvXgt/0JeB6bSuKbvQr/8Q6VBUuiCpSyuh5Npq42G4ulUt87\n",
              "dwG2f7k+1nyVt9+PhkIwgop1E3VQV16yqMjSv5Z5bq62a69lN0V21jj+VhSByuqLIfBZrMWSovMM\n",
              "W2srkpy6uLli0+DXCN94tHY0d37WtnWpv/GuvH4leYHWTHuTKmef+RxBWjMb02xkMZb0ULBaCbvq\n",
              "92nCIMCQSrJGCOZUK6abMwEKxpm0PjUbAN+QETUXW/Py5R8YlQx9O52XsOJEqRyL7wmGjfpLLLyf\n",
              "+bRLzyTFQJzCAK+In7adp5sBap7fO/M+7u6vWOgGoSZteM3jVVT9kyOzLDIpo7AuJMu3I8NgvA5m\n",
              "8W6iRlXD+Cd89vIKhjm5rpGydWHwZlSFhMs7tg41afiGgmo+jioNlBvSVUWGrYX/M9dTR2DHeBR1\n",
              "xmELS/0NNmzBU5/Aqwcv7gycnsr1sGLNExV56sA7cmpju+9MU7euDQnZ7lai00eN4s85uP9vZXbG\n",
              "vHi69FVQLwtEdQF8bWwI3HjmbE2ZhPKfO+EUekUZWeHoDqjBpHhYwgAAbJv14OaNs6vxOnUQPoEn\n",
              "BuNAJNKbL8tigd/BFmFdB0MDjg+sYKrt3b7hX/S14rVf6Ok7Eo5TeDNYPI0LCAydt4ymp5EndaSW\n",
              "UQmTVDiVC0OPUUM/UTv9GJnQeyJURBiy7WhQ77v61gkY+1EKHx8OKpQXpCGFtcyIan6xYAAACD4B\n",
              "noJ0Qr8AOfvq9dOXTEURqVGD7ZgI7pqVeaCX9QA3SeVLxHgp0kyh69GmyR1gjOI5aK9pbUMUcP5+\n",
              "2DXj/2mefCS05GI/TKnlmhzudf7DG3lVLmGqaTJOL04HXRh7XOqsd4JMN58Q9wwBM0HNXvCWkIMN\n",
              "oepPY/UK1tDjf7nul7SROIOcgd5xyOyUEECH8mekSQBOJIRR6rGBD8ZQXKge3OmoBl0kf/FkeZZS\n",
              "gvdboWWx02+EBn4dQpNz0HmXfoPTAsC2YY5ISVaBi6mhRMkbTRyODU9+NCS7io4QbUa95XDcc3K3\n",
              "o1P7pTFVVZp2YPCpCWWfHVsZBbdreVF5ZAzVVV6U5jxzNvKuvcGYI8Y0ZhnefKClkpDnYML1HB8m\n",
              "k4WJhA+LZV9R6eGo3q99+2nI5IcuiKIgGxue1Ti0mnmppqT53t7J2Ra6V53T/MAwt9VSECRoEu2Z\n",
              "ah5W4aoxBq/2Mutr6C+X4nybOF1FMOU/+7incTOZcyy143kLoe8d+2KRsTCJ7nh7HwJfKSivuphN\n",
              "REriRUslUjSSSuYYqrJ0+rM8eqyAE0tE86XdzZ2mwXjNgvkYojhn4se9x0PVZBkyp4qIsMsC1D1a\n",
              "7LY9BCVtcVeXKfyM+R16Y2AWj7dbk3YrYY9Fg77CLz8YZMDHOitAoLxmroD7ipNOUKpS253u9NAD\n",
              "FlQAu0zLTktyw3OMAkpNqT9nyjZsEIFhLvgDz7ZUdM7LkcB1pT8iYlFTHgxqYbjtGhlmVZ3SByf/\n",
              "gd4N8D2+W1pkFd/eBIAhirZQUoW9fQoMoaiRgRPHOw1ZuDvb8fr0P3COrr93j/SE9FsoZE2WLMRo\n",
              "jtMdO4gLSQ9Cw8O/qQxyk32VH4XbB2zni7rPIjptutaaQvQElMG4NzQF0Gm7NwwuX41Vm5GyaSRm\n",
              "e9XNf2htuyfIUHuIFYoBDF5eYPs95no/hcbQjhe3lona4UzS4nouM1Csen2wm+mnALdj6rU0vK5o\n",
              "7TfQn9xQIhASPksguHWbbCHMAySdHpl+nAIHOPMk+JVLNoksknPD4xUM/bsb67S3cWiIgldqQX4d\n",
              "esx3f6+iqctKGPpiH/EfH/RLc2M1kZyKcKZmbgQPJuO2kcMraY6i2M3hNJ0KTV7OxDOHdMuadzL2\n",
              "NYJZf+ccwx6UDYU/yGw+WPvPJrM+kMBM4/esL0WH/1iui7EJtJUCAAcwWsRFqDKT64usGefh1Smv\n",
              "uVQJn21VUX2S8YfgX9bZTfRDqJJszvY9skbAzxoc89O/ki79Sqkihax/874v3jVe+yIFvELKQeh5\n",
              "Pwr3pENyHjD/xqWirbGRNePs4jTGShZ/f4pX+2LGMnZLEvT7XD8Ji/+LfQnY1nc6jOXHQnlf2zN4\n",
              "ldFIAw2z7O9gdNVoeivuI6VUxiZivIrbkyWOqMxfYghqK3HqRD1vXTZ5TDJ/781iigzOhiMoMRuK\n",
              "gQX6i1E9UXt0OmJTJQZ1AwiZDYOGYF5TsDcvYGbIbQUWifOO04ePG62hwxE76nDJQe0BYuMG0/4O\n",
              "GXiQ0TOwMzxq1qNbPc5NzVT7TyQTqbDg1QapLO9SJq5oaoki3jhTImGNDeutaDXcJ5Cq3hQmR9wa\n",
              "9HxB4FM18m6Z89ovsW0DqB4VEjnS7L6JWspFQ0Rdau+vponXYq0YPpukcgFVuFcFfnEOABMGMKIg\n",
              "zX1TqMzGDAKbJJP2eBsAqNMbzfj3147x24RzseSQo/tMJCIEWwntNGJinK6r3qvgt3ZpJkeGTgW3\n",
              "rJMgrbi51pu8NIeTyaKtsvoQ+HQB8iVwJ8ShoS74rOk5UMfj+9Z0ZD/uE/kj1Vzpzt/B2vtXOTT4\n",
              "kW/gJOk1/ebGVRzUNy9KQHi6XlexUUWx7Z5rkAqn7EzcOXguKIVnQQ/ivddvIsFbD/mYsLzScAAR\n",
              "uenpibl5L9GzJM6DQVrNvWZZgNtR8P7nfXK+x2V4kjFwq2KTFVe18q4D4vEMi2jqcU7ZCHl+/8YQ\n",
              "fD1XkyMLjoBbFmQqXDqGfna+d+hUKTB5NK50JmWEt4mdoGtdVF5eo5rMPISwzqGH6JnmPng7LWpj\n",
              "jU79K++rgiovLQUS6f/r7eNzX+nlVJzDUuR25VPipltJ0x5VNxa4LGkIDn/wHt8PVjgzURCf8OuU\n",
              "ATPP2JzzaJbt+4iwMbymuZY8aJ6JIxpd39v1U2ockSMKxFA2nl1ygAr2FeOi5WFrJ7EgzhXS7T4H\n",
              "uJT7qbkPymx5z5Qsuc8L//HZq/FyMoV2T4NYj5mRG7eGM1b2lb3ozhVugjepIpv+vymB5i3qlmsn\n",
              "gSCieLfIpLy+Md0EQp+JE/cW0XfZ8qPn/u81l6aGfe7jwyEbVz+BAU4Q9dKKKMj4JxKnMhlJCOF6\n",
              "VrjXmy+u5Mn6f99xFckvr22irv5XXpbgs9xdX18p1MBl6s+M0ELJ/MCcfha2aidryrWFaPOxISAv\n",
              "JzbnCqTvJjn8KDzqtDk7toVcTWPwKbG4QTOX4wtpmi9L5fQY+dvxZ018dET2a720eRbtpvChVpjE\n",
              "oxapXGfwxjU+etmoftMcvymi993a7Zr8ltqRFGAu+zWEQWTXZa9wYr4hP6ywSNKL7n7UndjHQLhz\n",
              "X1hzMVSP3Zhg8aM+zTeIW7sE/Nr10MAnDA+NEk9+p68gWGjTKGtSOc/GPOxBePtJGEGZthRZg2OD\n",
              "w6r3h3y7oqhR5xhwhBRTu7VWzPj2K1ET4eHV1cSMhI78gmWxjSEzbkrRqXTzjDSg9abpgW22qzqQ\n",
              "6rMwLSFFJgBG0svlspCadZzHXw/DMADQucpP2chbHZJv15ll2FYm/Bn+RW9EgskboUgjV8E5wKCB\n",
              "AAAHOgGehGpCvwAFw831xdBW4AIajjgCBPPpeA25+ewLFaC4fXXBh6dKMkpz37ynkqdsMtg6Qi3l\n",
              "0K0DWbOqdwnVXFwFNlqmV5/NTKWP3VWeY6T3jSVh9tkEOGY5+NwBRuBsDtAI34HiPjUkp7JGO6zX\n",
              "KGr2Fg6Jx4XgE9YlJGwFho5r28Xcxzm2yCnyiJi257Cjm4VRljbMp2gV1SuR1nsMyfpiAZWjIGqT\n",
              "g4RPuuczmOs6mKfdpbo6KLawN96Y0ySsfKgL/EQV/Dxdm3eqqjazid3bvvVL2U2jEbj5/NLOJVOE\n",
              "s0ymoEqtQrPFpD1SJExKGisVELAukzlI5fj4AzK2JboQjPdyMvRAPxsfwV0r6Xg9DnqqspcTINrZ\n",
              "l8PnHh0GncP/4H+weQuNiEt2ZBjnNIWvbejZidJHohl8u5QPzCFFvoLTNiUvxxQAG1eQGJvwkzl+\n",
              "GsOz5+A/uxUIGimsJt5fDBpoyNIzXSpX1Zp1Yq+Og4kyCjvVhjmv44wMwoo1/Jm+k8btX7IZdaJy\n",
              "+Qjggx9e7c+Pbz7s85FYzGeZVZZuT6VK8fxdx6bOFv9Q70+U6nZ+D1Y8opW8s2qvYrPJO2H+ZLVB\n",
              "ItAYP4soAH/PIn7p8OqiF8iScpFjnBlB53PGiDeOodD1dapRpKugOPSuoMxit/xuP32xIBaV77Ad\n",
              "Nok+l0xb6xVrO61wTWyA6cUsvkWW9dRZa2Tay+W785n0opXP4tPE5O3BXXeeRXZtNf9FkzbT0UEl\n",
              "gXXBH9ddnqn3kjLJr5c2v/PdLLVPA9GJryE879qIBJpEO9aYaOvOExlBNOVz3/9sl7npjloRiJ3P\n",
              "yMzEAeqrPPr1oCYgReCKF7y+b96yXTX/rDb24NyYSTxvFQLgg7lSfeN07IY/8CPE0qnwIBbB5a6c\n",
              "N3Pq/NFUgKGVC+sMhKN+IovYGn7Dbw0FvTb0cRGTeBx9HDlUxdhKtTXO8DhKbfx2Hx/9ZexbnT8M\n",
              "uaRbPRebe/H+ZjyqySVZrTFz8TMs0so/KrObX6w3h9PmBmDKHgQMZN0jK4QDkQXoEE8yFJVJKfn3\n",
              "YsOXyZDJ4dAdI+atpg7fosqg6/VlZqOzaKpw4Md0PfXdPexIHf31/spJJq75F+ZuSEJE/vVXWlp3\n",
              "BsjPjphlPmJ4KnZnPe/wLTH5L6KWc6fadAwd2cVI2MXGkNsZ1b80svnk28GVcmqhPFYC5v7sMXdU\n",
              "qv9y+256AfuK2KDoZZUNBWs+IlOxuvXtRSLKXFcgD5ZRNxzYiwUmFAouYQ++p4B1Fze1ZxbuqK4m\n",
              "lT65QzRtlOr1uG5oG1+eBIxPMehBPUaJmfJHH0MULvtohUiAy7l940tSZd6K2DIYZIJ8CFRTdA5C\n",
              "KTCMQ2gd5svj7A7k+hlZuspQgkCHImztHcgCmI0GCuU3QnOgMokG7ZVnSBHrxNbKZNXcauMdHbjP\n",
              "SLZ/La4Zv3hONWvglW79yGoCz0y2vDUgzA2kDLu12NPJDoqzWZRmdqPQrrSYjkXP0Fm45aPdGP8F\n",
              "3VWC1/zoIrsP2l2cocsghq4SbksEuKsW30KdXxq7Bm/tVSLcYcu27fI6BbhACJDKIq0g6WMe4cM0\n",
              "nkwQQ1FoEqzgkkJwWYwMC9smbcnsvYKbZBTIRoi8Cr/AtJydAbkZE628z1EimKTDf/VWfYmN/hxI\n",
              "5wjohqgOAowA73WroLtU247gmH4Tn7CpaNe/bFWnR3VbxR6jmQixfTB7bXcHpeaqGs6yRppQYnMg\n",
              "kXunJtxy7ICUOB/ZSMlUVFvPxCawqy3+3b4xkuDHr/bQLI2DZbX0DaxuCBNxXuEoT6huT5XsaHOJ\n",
              "8BrL1ajYohdkLxwMmXtBprzt78DPMSvZJzlSRt1PCznZ8oXCZfsDzdXfNyralj30Da54uIYR3Sue\n",
              "bhyuHEh3ZplEWOkr368/zFZ3SQEGaeXKRLaCM2RM8jpkTnLZqyjL0O3/rzs5a+vtHmEo8C3ruY6/\n",
              "//Qj5ikUHrlbQbkzv8TNvX9JSuM7yzSArkEN2x1dur711PCeZwQ6NMvlk3IgfA93119NX4AlddzM\n",
              "1anYj5GtkaZmSIeK3pxj66pWDkrfJ1+Yc+v9a6B/bDiDcq0EKfa5UWWdfkVkCeWtkYqgBVQBDY8J\n",
              "LeCq+BfySWgR75toCeybeQ8athn1+TqBlb7V+4gnP7E7bDBsP5zjd/f172WWbB+xFVrxM18MIlIN\n",
              "E4L/V+HMM8cPUHTDBreZ4CZNOQPKL8S0CuMsM5WufJQpVbDE87A2ly6SkkKnMhFbsseb88cmeTQQ\n",
              "u4XZLa0Ort+vhQws26AZpKIKRrMzPTrPc2j6bnLkn5o3Xwir9GVpaeAvgbjI4XhAEPRX6QtiWpoE\n",
              "rabcBEpYv7kkTeWC7js1IYmeeJ0yHb41KiZH0TZz/XGEecZ1Slhpr7cuK7hWSk9QudAFAdWvbFOw\n",
              "KCH7GflwDeq/qN9ewXsuX0yfoqECVq56Ds+EXgG9AAAFH0Gah0moQWiZTBTw7/6plgAADGe2g7Ja\n",
              "sYP9EQzBYvABnB7fvhe5t40D0Bhw7sKd397eDz8Gewl3Az4K8HlOhcd5hPGhSK+W7VKbch0aXgIi\n",
              "0dfA3AI9rVqTV2EjHq34GBUHuE5cW6CiZb/c7YY7rpzpKme3Q/7iF9/rAom3zoRrW/RDfZ0YUv1p\n",
              "YBwBUnsPjqxR7H4euv62xOUGXVlW8sfFYxi4hOFrHeL37On4wgh5Bu7KIdxoOXZoaYeqxmiPJY4Y\n",
              "7+v/8rPp4fw4sgPCCf74r16sXC/obtb/kq8fn9my89ygDwB2GGmnQre2DPopDWal79TGzNAyjYdV\n",
              "K+K7xEwYDXYqcF4FaVr4VIlcHJ55yBVGHcPch3WPvqGEgjx+j5zSL9A82+srbGcGTnXH0KQMZolw\n",
              "4Wd9duMKOtLvnRPusXadDYi9gZfxi3t6NnBN/Kx6hXxL8ZCM6CH9dRFdbePs7Gfj2czEpOs4tkgS\n",
              "06fxyNwhSMnIkzRHdNIh7VL8mw6nS4Wsy3cdrcdLRAM+DSymy+0ZGo1XMhy9Df2X//iTSQLjd/SX\n",
              "mEU7tYy1UVPvD8BOc2qT9rJQqdcO3Kt8EmNd07h4cLsNupVpfkNncPa3dgmIVN2EAbJ826mYNoyd\n",
              "Xq081UHVzaiklMZgAJVNmzj2UxNbFOPUiznWKPo8tfspm+8zpwE1lpmcZww2YHJF4j9TR1QmKb1F\n",
              "ewwy6p3HploONsVijqOpGpaHUUNOl1q/FniVOn2fkZN85iU8VGeaWcz/J2l4z6AXsKKnEwqyIs1E\n",
              "a+/yGtLNWHLxTQZXZd3UPKQnLqDow/74ilMH9wq0gJ7YVL7dC8gqDb37DkYhA+cEO0uWd3dAaDao\n",
              "ZvCd9GA1NEJ//47vukH79sa6js2LfR2jWnxvpMtz0Nv0C4GLBRJO0212YsLamYxpxz3pMUEGMk/Z\n",
              "IrlWBMrTY4/oXuae6oxysYodel7VtRbrv4mfkf790q1sCMSwEqZVMMFig72rSfFA1Q4OECiu8gYO\n",
              "ssFR1kySHyDkSDHBjlu0jHoPiungKHD/HpWqRJxizci4FlsJs+xXgVmRbrcBg9icX8hqLHasled6\n",
              "AhHlD4t5VF7fNGRqK3VCBgGmt7ZtiVqpD0iiPcMNLYzsbcnL7SJGyKbFENL2EauW/RUDwINKpnYI\n",
              "hfnKmkQivom50UEnAUKhwppnrjvHxuT4Ht90ZHEsyEKJxdBm32VBEj7a3ElhMAhyeJLcYSi6HKzA\n",
              "ADbp/SmH8PAZE3JYHQwCBLN9S3R5pjpbL7owQknB843VGeqE9qL5vhodOjHQtUy37Z7lIyLG2j+x\n",
              "1dtJH/RV07HV8Te6YRUyLIyKuubywk/BhbNfQ/Z3vbh3LZKGgqSosWM4wrM8wqejy+dBm7Zm/r2j\n",
              "M5QjDwDKKGLOfUvIGP0HE0vIU/agKJL4h7fX2o3JhPIFmZV6TtEGvSx723pamfLzTiCeh3b9cwgZ\n",
              "wWeVjWNc5KYvqFlOq+vUk1nSiEEW+QoVQt/bJ+qJ41b3zR6QQQSygUQo7zaz+kEbRc6LEawhM0To\n",
              "XMWIU8K3M7wGp5ucoYejONpxTuSEkrOEiKPLovFNgoDZ4c+m+MdrwPaavExxUToMcQu/7TyfFdYP\n",
              "dCh/cBkZMSORwAfuH9+exlReTycBYC+M5B770KwofQ0lct898n9T6paPCFWxuhKnQaCDOgGcPiN1\n",
              "FqIgugdDil9fNn11ZJxqpmAh5aolv+mcTbp2uiT4cjgMWQAABWwBnqZqQr8AAh0B6AL6fRJEbKF5\n",
              "uwXaGTyHUStOalDzln4JOFpDgz8Xrix8fORaSQ2VlQl+u50LAE3gnlfLXPH/8JQMhDP5mo2c6YcC\n",
              "aHRwfymo3YcRVnyvuTSJSajeLFq/ZLoy0BeiskU6Ut2XokP6btZQzwhvic7p8YhGXpMlYD0KwIrw\n",
              "ix8DpA/ErbE3Ik4mkBDiXOI7eL+sxtvB/IZFdQWAOhYxialBKLpKzCDKMwX00YSioctJEqsMf3u0\n",
              "Jf3GO9fYSJPqnUCChYbPNvp6xl7VDscZGfIECAUarkaDMyqfYdnhCpzsBKQTQeMqIxdXyfnZUikv\n",
              "u6oXd5Ilz4gtOvGGKNBMZeMlegS3CMQPkQrqdWjjj62MBU/WVr7pA1saQAcNlnL426tosVxoLlOH\n",
              "paMYr+Z7PQu24pjSCQpl39wdD30oMLct73jwTLwa0Z2RIBrZOCqZ15qw9RHkSwytxEOMrhmLOzlc\n",
              "qDtFk30dLQ743+0HJkiC/1lYde+d8nNJu9iKYXamT8FadzFFOgCATSuG9rIQQ3ankEJG3OvABrzJ\n",
              "55YIve9KVpOYjyLtbj04JoQ9k4u/jbXcr1n8MGpCQ8ZVcBDBcNiCH4bZPMnWnyb3vSy1cprJ4QYX\n",
              "1BkP0oFuBcHMy0F3rsFWQZWu1SoZGVzWriehxFBDTNfuIkZdqgnQGbCCNgDTyCgvvl1iD69Qy93q\n",
              "R0Gtnr2MITjMZeJNUBcRg6+LztGdfduxBY7YgmUc2LE5eXnkOO/C5DwZEbMXuaIrCHu4jOS8pgq1\n",
              "nO2EfIm5M2bUStUu89NgPZqdGrpQtjQvbqB8f9FEqwxhjpbEhoh4TVSAGnOv0aldEMxD7il8V11w\n",
              "JuM00EO4ZfVbSoGN8VpwKbKUdHMqj+SayE2RLhQr1ctEx5zThP1dan2R/WFfwCXWNGN/ia8sYLfP\n",
              "CA6bHWtiemp2S8r4wBr2A762/ELgo9s1aJQJV/5Zfocq3an6996hXx5iClzqlfkH6PuME7nMbdVO\n",
              "f5ZZSEY5TH0DTNGYKjLR0WdoExk02BD8+CgkHvWIxyPYgqghDYyY001GQ9HBIIKpkk/9TMbTS3ia\n",
              "PEoEl2rHKUWVm07xyv+RLV9TEjEeSBWdCdlcm9pI02oVSz0foj23H68ebHHwVALjjKi3/qrdUm1h\n",
              "w4xw4enhwIzORdyulezNUEyYXrtKCi2eFbNKhhUFPPJuaoRGFBlIgZ6r/sLbLGw0gYQRWia1iiFh\n",
              "GGNQpJ/Rdi1YTIOM3IqTanUB85A0WiUA3PW29Pe1Tkd3jE3TpV3yCPbAY+BbWHOICBEETom1kS37\n",
              "jTGFyqA3//KFlRxQDBpA2jEcCqtqxI9boRjCrmsQ6qbWFh+fTEUEK/Nx0piAVdDxBfyTxGID5UdB\n",
              "XNVZvo/8ZuFA6Jrv0e800pV9fQrWIezp4pG9oen6f4/QfGL8QMk4tuk0J7t0EMfhvPlqNLksOQbf\n",
              "A+UrVItg9xoVCwi1mVtiem9sphjmT0wWYaRONEsMBG6lho8qhLv1Wn8PY/ohjCxNxpexYiFwgndX\n",
              "YEDF95Sg8p4KI5Bux4wqqPqJfHGZ5kCNdI16ZZKUDUnr6VUSIbX0ASwOQFBOHGsdxldERHYQM7Kx\n",
              "olaPUsY3Ph8As2nUlFnYXxIUYXf6osAhkmqWggBDSvIG/IZ6FkdiasLaQoUDc06JQ5BOC375OfhB\n",
              "qzYtqz63O5Rlyi994Ih4Fvi/9w2OECvHa3Yz6/AlQLJW6WsjX4bht8Ap9QslkTyCzWhDepN63hEz\n",
              "xK9raQTbhxll9AC4rzWs/2+Ni6yn3MpxlNRANpwrbXdE0pQWI1hgo+x4LsAaLBxCbzjBjQI2ON7m\n",
              "1QAAAElBmqtJ4QpSZTAh3/6plgAAAwC7hOp2gbv8uGypV30x88vLhKFl6ADMgRibm/wAyriuVvBB\n",
              "peGUV62tGv11v23rqHyhSJW81WkgAAAAMUGeyUU0TC//AAADAmvnZQ0MR4PWMUbTroLllQuaxhfT\n",
              "x776YN26uLBbmbQsAXMACDgAAABRAZ7odEK/AAADAvv9caR0FJn3y2o9Ayv5DHcDDjBj2UkMZ6Fm\n",
              "IHQpvHRBlqgaMlJWkQwi8ykG8n8mqJxkEj2PIPged8nymY2WSPIysiq63nWVAAAAFQGe6mpCvwAA\n",
              "AwL86XkYLyoSlrACFgAAABtBmu9JqEFomUwIb//+p4QAAAMABbPeE/JAAdcAAAAcQZ8NRREsL/8A\n",
              "AAMCa+dlDQxrL6h4jSCM5wAoIQAAABUBnyx0Qr8AAAMC+/1xpavySbrABSUAAAAUAZ8uakK/AAAD\n",
              "AvzpeRgvAAADApMAAAAZQZszSahBbJlMCG///qeEAAADAAADAABZQAAAABpBn1FFFSwv/wAAAwJr\n",
              "52UNDGsvqHiMYAALyAAAABMBn3B0Qr8AAAMC+/1xpauwAAQNAAAAFAGfcmpCvwAAAwL86XkYLwAA\n",
              "AwKSAAAAGEGbd0moQWyZTAhn//6eEAAAAwAAAwABWwAAABpBn5VFFSwv/wAAAwJr52UNDGsvqHiM\n",
              "YAALyQAAABMBn7R0Qr8AAAMC+/1xpauwAAQMAAAAFAGftmpCvwAAAwL86XkYLwAAAwKTAAAAGUGb\n",
              "uUmoQWyZTBRMK//+OEAAAAMAAAMABU0AAAAWAZ/YakK/AAADAv1h6u4aHswfAABeQAAABF5tb292\n",
              "AAAAbG12aGQAAAAAAAAAAAAAAAAAAAPoAAAEEAABAAABAAAAAAAAAAAAAAAAAQAAAAAAAAAAAAAA\n",
              "AAAAAAEAAAAAAAAAAAAAAAAAAEAAAAAAAAAAAAAAAAAAAAAAAAAAAAAAAAAAAAAAAAACAAADiHRy\n",
              "YWsAAABcdGtoZAAAAAMAAAAAAAAAAAAAAAEAAAAAAAAEEAAAAAAAAAAAAAAAAAAAAAAAAQAAAAAA\n",
              "AAAAAAAAAAAAAAEAAAAAAAAAAAAAAAAAAEAAAAACgAAAAeAAAAAAACRlZHRzAAAAHGVsc3QAAAAA\n",
              "AAAAAQAABBAAAAQAAAEAAAAAAwBtZGlhAAAAIG1kaGQAAAAAAAAAAAAAAAAAADIAAAA0AFXEAAAA\n",
              "AAAtaGRscgAAAAAAAAAAdmlkZQAAAAAAAAAAAAAAAFZpZGVvSGFuZGxlcgAAAAKrbWluZgAAABR2\n",
              "bWhkAAAAAQAAAAAAAAAAAAAAJGRpbmYAAAAcZHJlZgAAAAAAAAABAAAADHVybCAAAAABAAACa3N0\n",
              "YmwAAACzc3RzZAAAAAAAAAABAAAAo2F2YzEAAAAAAAAAAQAAAAAAAAAAAAAAAAAAAAACgAHgAEgA\n",
              "AABIAAAAAAAAAAEAAAAAAAAAAAAAAAAAAAAAAAAAAAAAAAAAAAAAAAAAAAAY//8AAAAxYXZjQwFk\n",
              "AB7/4QAYZ2QAHqzZQKA9oQAAAwABAAADADIPFi2WAQAGaOvjyyLAAAAAHHV1aWRraEDyXyRPxbo5\n",
              "pRvPAyPzAAAAAAAAABhzdHRzAAAAAAAAAAEAAAAaAAACAAAAABRzdHNzAAAAAAAAAAEAAAABAAAA\n",
              "2GN0dHMAAAAAAAAAGQAAAAIAAAQAAAAAAQAACgAAAAABAAAEAAAAAAEAAAAAAAAAAQAAAgAAAAAB\n",
              "AAAGAAAAAAEAAAIAAAAAAQAACgAAAAABAAAEAAAAAAEAAAAAAAAAAQAAAgAAAAABAAAKAAAAAAEA\n",
              "AAQAAAAAAQAAAAAAAAABAAACAAAAAAEAAAoAAAAAAQAABAAAAAABAAAAAAAAAAEAAAIAAAAAAQAA\n",
              "CgAAAAABAAAEAAAAAAEAAAAAAAAAAQAAAgAAAAABAAAGAAAAAAEAAAIAAAAAHHN0c2MAAAAAAAAA\n",
              "AQAAAAEAAAAaAAAAAQAAAHxzdHN6AAAAAAAAAAAAAAAaAAATKQAADn4AAAacAAAHpAAACEIAAAc+\n",
              "AAAFIwAABXAAAABNAAAANQAAAFUAAAAZAAAAHwAAACAAAAAZAAAAGAAAAB0AAAAeAAAAFwAAABgA\n",
              "AAAcAAAAHgAAABcAAAAYAAAAHQAAABoAAAAUc3RjbwAAAAAAAAABAAAALAAAAGJ1ZHRhAAAAWm1l\n",
              "dGEAAAAAAAAAIWhkbHIAAAAAAAAAAG1kaXJhcHBsAAAAAAAAAAAAAAAALWlsc3QAAAAlqXRvbwAA\n",
              "AB1kYXRhAAAAAQAAAABMYXZmNTguMjkuMTAw\n",
              "\">\n",
              "  Your browser does not support the video tag.\n",
              "</video>"
            ]
          },
          "metadata": {},
          "execution_count": 31
        },
        {
          "output_type": "display_data",
          "data": {
            "text/plain": [
              "<Figure size 640x480 with 1 Axes>"
            ],
            "image/png": "[encoded data removed]"
          },
          "metadata": {}
        }
      ]
    },
    {
      "cell_type": "code",
      "source": [
        "class RSNN(nn.Module):\n",
        "\n",
        "    def __init__(self):\n",
        "        super().__init__()\n",
        "\n",
        "        n_inputs = 35 * 35 * 2\n",
        "        n_hidden = 512\n",
        "        n_outputs = 4\n",
        "        beta = 0.9\n",
        "\n",
        "        self.fc1 = nn.Linear(n_inputs, n_hidden)\n",
        "        self.lif1 = snn.RLeaky(beta=beta, linear_features=n_hidden)\n",
        "\n",
        "        self.fc2 = nn.Linear(n_hidden, n_outputs)\n",
        "        self.lif2 = snn.RLeaky(beta=beta, linear_features=n_outputs)\n",
        "\n",
        "    def forward(self, x):\n",
        "\n",
        "        spk1, mem1 = self.lif1.init_rleaky()\n",
        "        spk2, mem2 = self.lif2.init_rleaky()\n",
        "\n",
        "        spk2_rec = []\n",
        "        mem2_rec = []\n",
        "\n",
        "        for step in range(x.size(0)):\n",
        "            current_1 = self.fc1(x[step].flatten(1))\n",
        "            spk1, mem1 = self.lif1(current_1, spk1, mem1)\n",
        "            current_2 = self.fc2(spk1)\n",
        "            spk2, mem2 = self.lif2(current_2, spk2, mem2)\n",
        "            spk2_rec.append(spk2)\n",
        "            mem2_rec.append(mem2)\n",
        "\n",
        "        return torch.stack(spk2_rec, dim=0), torch.stack(mem2_rec, dim=0)\n",
        "\n",
        "rnet = RSNN().to(device)"
      ],
      "metadata": {
        "id": "mp6gVeW6Dej2"
      },
      "execution_count": 32,
      "outputs": []
    },
    {
      "cell_type": "code",
      "source": [
        "loss = nn.CrossEntropyLoss()\n",
        "optimizer = torch.optim.Adam(rnet.parameters(), lr=1e-3, betas=(0.9, 0.999))\n",
        "\n",
        "n_epochs = 1\n",
        "counter = 0\n",
        "\n",
        "loss_hist = []\n",
        "\n",
        "for epoch in range(n_epochs):\n",
        "\n",
        "    train_batch = iter(train_loader)\n",
        "\n",
        "    for data, targets in train_batch:\n",
        "\n",
        "        data = data.to(device)\n",
        "        targets = targets.to(device)\n",
        "\n",
        "        rnet.train()\n",
        "        spk_rec, _ = rnet(data)\n",
        "\n",
        "        loss_val = torch.zeros((1), dtype=dtype, device=device)\n",
        "        loss_val += loss(spk_rec.sum(0), targets)\n",
        "\n",
        "        optimizer.zero_grad()\n",
        "        loss_val.backward()\n",
        "        optimizer.step()\n",
        "\n",
        "\n",
        "        loss_hist.append(loss_val.item())\n",
        "\n",
        "        if counter % 10  == 0:\n",
        "            print(f\"iteration: {counter} \\t Train loss: {loss_val.item()}\")\n",
        "\n",
        "        counter += 1\n",
        "\n",
        "        if counter == 100:\n",
        "            break"
      ],
      "metadata": {
        "colab": {
          "base_uri": "https://localhost:8080/"
        },
        "id": "xdHlqTZQDhV2",
        "outputId": "79b2d17a-1037-496b-8653-9c7daeb31229"
      },
      "execution_count": 34,
      "outputs": [
        {
          "output_type": "stream",
          "name": "stdout",
          "text": [
            "iteration: 0 \t Train loss: 1.4734567403793335\n"
          ]
        }
      ]
    },
    {
      "cell_type": "code",
      "source": [],
      "metadata": {
        "id": "Gndmejl2DkU2"
      },
      "execution_count": null,
      "outputs": []
    }
  ]
}